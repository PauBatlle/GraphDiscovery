{
 "cells": [
  {
   "cell_type": "code",
   "execution_count": 2,
   "metadata": {},
   "outputs": [],
   "source": [
    "import pandas as pd\n",
    "import pickle\n",
    "import sympy\n",
    "import networkx as nx\n",
    "import numpy as onp\n",
    "import matplotlib.pyplot as plt"
   ]
  },
  {
   "cell_type": "code",
   "execution_count": 3,
   "metadata": {},
   "outputs": [],
   "source": [
    "\n",
    "#data=pd.read_csv('complex toy.csv')\n",
    "#with open(\"complex toy graph.p\", 'rb') as f:  # notice the r instead of w\n",
    "#    true_graph = pickle.load(f)\n",
    "#X=data.to_numpy(dtype=onp.float32)[:1000].T"
   ]
  },
  {
   "cell_type": "code",
   "execution_count": 4,
   "metadata": {},
   "outputs": [],
   "source": [
    "#plt.figure(figsize=(15,15))\n",
    "#plt.margins(x=0.4)\n",
    "#nx.draw(true_graph,with_labels=True,labels=nx.get_node_attributes(true_graph,'equation'),font_size=20)"
   ]
  },
  {
   "cell_type": "code",
   "execution_count": 5,
   "metadata": {},
   "outputs": [],
   "source": [
    "#ga=X[4]\n",
    "#X_used=onp.delete(X,[4,7],axis=0)"
   ]
  },
  {
   "cell_type": "code",
   "execution_count": 6,
   "metadata": {},
   "outputs": [],
   "source": [
    "X=10*onp.random.rand(4,1000)\n",
    "Y1=X[0]*X[1]\n",
    "Y2=X[1]+onp.sin(X[3])\n",
    "ga=Y2\n",
    "X_used=onp.concatenate([X,onp.expand_dims(Y1,axis=0)])\n",
    "X=onp.concatenate([X,onp.expand_dims(Y1,axis=0),onp.expand_dims(Y2,axis=0)])\n",
    "which=onp.array([0,1,2,3,4])"
   ]
  },
  {
   "cell_type": "code",
   "execution_count": 7,
   "metadata": {},
   "outputs": [],
   "source": [
    "beta=onp.array([0.1,0.01,0.001])"
   ]
  },
  {
   "cell_type": "code",
   "execution_count": 12,
   "metadata": {},
   "outputs": [
    {
     "data": {
      "text/plain": [
       "(19, 1000)"
      ]
     },
     "execution_count": 12,
     "metadata": {},
     "output_type": "execute_result"
    }
   ],
   "source": [
    "constant_mat=onp.ones((X.shape[1],X.shape[1]))\n",
    "linear_mat=onp.expand_dims(X,-1)*onp.expand_dims(X,1)\n",
    "quadratic_mat=onp.expand_dims(linear_mat,0)*onp.expand_dims(linear_mat,1)\n",
    "diff_X=onp.tile(onp.expand_dims(X,-1),(1,1,X.shape[1]))-onp.tile(onp.expand_dims(X,1),(1,X.shape[1],1))\n",
    "gaussian_mat=onp.exp(-(diff_X)**2/2)\n",
    "K=constant_mat+beta[0]*onp.sum(linear_mat,axis=0)+beta[1]*onp.sum(quadratic_mat,axis=(0,1))+beta[2]*onp.prod(gaussian_mat+onp.ones_like(gaussian_mat),axis=0)\n",
    "\n",
    "\n",
    "\n",
    "eigenvalues,alphas = onp.linalg.eigh(K)\n",
    "max_eigenval=eigenvalues[-1]\n",
    "\n",
    "norms=onp.sqrt(onp.sum(alphas**2,axis=0))\n",
    "alphas=norms[onp.newaxis,...]*alphas\n",
    "alphas=alphas[eigenvalues/max_eigenval>1e-6]\n",
    "\n",
    "\n",
    "constant_mat=onp.ones((X_used.shape[1],X_used.shape[1]))\n",
    "linear_mat=onp.expand_dims(X_used,-1)*onp.expand_dims(X_used,1)\n",
    "quadratic_mat=onp.expand_dims(linear_mat,0)*onp.expand_dims(linear_mat,1)\n",
    "diff_X=onp.tile(onp.expand_dims(X_used,-1),(1,1,X_used.shape[1]))-onp.tile(onp.expand_dims(X_used,1),(1,X_used.shape[1],1))\n",
    "gaussian_mat=onp.exp(-(diff_X)**2/2)\n",
    "K=constant_mat+beta[0]*onp.sum(linear_mat,axis=0)+beta[1]*onp.sum(quadratic_mat,axis=(0,1))+beta[2]*onp.prod(gaussian_mat+onp.ones_like(gaussian_mat),axis=0)\n",
    "\n",
    "alphas.shape"
   ]
  },
  {
   "cell_type": "code",
   "execution_count": 11,
   "metadata": {},
   "outputs": [
    {
     "data": {
      "text/plain": [
       "array([[ 1.34451372e+00, -2.08818168e+00, -1.13873948e+00,\n",
       "         1.20332599e-01, -1.83838814e-01,  6.05507181e-01,\n",
       "         2.77037951e-01,  1.25279500e+00,  1.99134194e-01,\n",
       "        -2.07073119e-01, -2.23120352e+00, -1.81402103e+00,\n",
       "        -7.46527560e-01, -2.35030955e-01, -6.18273379e-02,\n",
       "         4.72205744e-02,  1.38513898e+00,  2.03935338e+00,\n",
       "         1.06805174e+00],\n",
       "       [-2.08818168e+00,  3.24318204e+00,  1.76859105e+00,\n",
       "        -1.86890120e-01,  2.85522446e-01, -9.40421053e-01,\n",
       "        -4.30271233e-01, -1.94573216e+00, -3.09277899e-01,\n",
       "         3.21607945e-01,  3.46531111e+00,  2.81737957e+00,\n",
       "         1.15944163e+00,  3.65029624e-01,  9.60248400e-02,\n",
       "        -7.33388863e-02, -2.15127731e+00, -3.16734617e+00,\n",
       "        -1.65880500e+00],\n",
       "       [-1.13873948e+00,  1.76859105e+00,  9.64458441e-01,\n",
       "        -1.01916016e-01,  1.55702774e-01, -5.12835923e-01,\n",
       "        -2.34638032e-01, -1.06105807e+00, -1.68657237e-01,\n",
       "         1.75381131e-01,  1.88972377e+00,  1.53638995e+00,\n",
       "         6.32273509e-01,  1.99060095e-01,  5.23648288e-02,\n",
       "        -3.99935915e-02, -1.17314716e+00, -1.72723579e+00,\n",
       "        -9.04589272e-01],\n",
       "       [ 1.20332599e-01, -1.86890120e-01, -1.01916016e-01,\n",
       "         1.07696443e-02, -1.64533854e-02,  5.41922720e-02,\n",
       "         2.47946126e-02,  1.12123868e-01,  1.78223062e-02,\n",
       "        -1.85328319e-02, -1.99690428e-01, -1.62353022e-01,\n",
       "        -6.68134513e-02, -2.10350296e-02, -5.53348336e-03,\n",
       "         4.22619300e-03,  1.23968519e-01,  1.82520037e-01,\n",
       "         9.55895359e-02],\n",
       "       [-1.83838814e-01,  2.85522446e-01,  1.55702774e-01,\n",
       "        -1.64533854e-02,  2.51367533e-02, -8.27925523e-02,\n",
       "        -3.78801107e-02, -1.71297879e-01, -2.72281299e-02,\n",
       "         2.83136395e-02,  3.05078189e-01,  2.48035755e-01,\n",
       "         1.02074631e-01,  3.21363863e-02,  8.45381073e-03,\n",
       "        -6.45659044e-03, -1.89393611e-01, -2.78846026e-01,\n",
       "        -1.46037458e-01],\n",
       "       [ 6.05507181e-01, -9.40421053e-01, -5.12835923e-01,\n",
       "         5.41922720e-02, -8.27925523e-02,  2.72692604e-01,\n",
       "         1.24765160e-01,  5.64201289e-01,  8.96808885e-02,\n",
       "        -9.32562152e-02, -1.00483151e+00, -8.16951694e-01,\n",
       "        -3.36201701e-01, -1.05847140e-01, -2.78441913e-02,\n",
       "         2.12659764e-02,  6.23802934e-01,  9.18431029e-01,\n",
       "         4.81001414e-01],\n",
       "       [ 2.77037951e-01, -4.30271233e-01, -2.34638032e-01,\n",
       "         2.47946126e-02, -3.78801107e-02,  1.24765160e-01,\n",
       "         5.70838553e-02,  2.58139249e-01,  4.10317340e-02,\n",
       "        -4.26675547e-02, -4.59740978e-01, -3.73780247e-01,\n",
       "        -1.53822503e-01, -4.84282857e-02, -1.27395644e-02,\n",
       "         9.72983096e-03,  2.85408814e-01,  4.20210129e-01,\n",
       "         2.20072776e-01],\n",
       "       [ 1.25279500e+00, -1.94573216e+00, -1.06105807e+00,\n",
       "         1.12123868e-01, -1.71297879e-01,  5.64201289e-01,\n",
       "         2.58139249e-01,  1.16733307e+00,  1.85549854e-01,\n",
       "        -1.92947209e-01, -2.07899747e+00, -1.69027393e+00,\n",
       "        -6.95601678e-01, -2.18997845e-01, -5.76096614e-02,\n",
       "         4.39993277e-02,  1.29064893e+00,  1.90023478e+00,\n",
       "         9.95192438e-01],\n",
       "       [ 1.99134194e-01, -3.09277899e-01, -1.68657237e-01,\n",
       "         1.78223062e-02, -2.72281299e-02,  8.96808885e-02,\n",
       "         4.10317340e-02,  1.85549854e-01,  2.94935089e-02,\n",
       "        -3.06693328e-02, -3.30460678e-01, -2.68672317e-01,\n",
       "        -1.10567235e-01, -3.48101320e-02, -9.15716735e-03,\n",
       "         6.99377843e-03,  2.05151150e-01,  3.02046001e-01,\n",
       "         1.58187767e-01],\n",
       "       [-2.07073119e-01,  3.21607945e-01,  1.75381131e-01,\n",
       "        -1.85328319e-02,  2.83136395e-02, -9.32562152e-02,\n",
       "        -4.26675547e-02, -1.92947209e-01, -3.06693328e-02,\n",
       "         3.18920335e-02,  3.43635223e-01,  2.79383532e-01,\n",
       "         1.14975242e-01,  3.61979148e-02,  9.52223806e-03,\n",
       "        -7.27260086e-03, -2.13329954e-01, -3.14087732e-01,\n",
       "        -1.64494272e-01],\n",
       "       [-2.23120352e+00,  3.46531111e+00,  1.88972377e+00,\n",
       "        -1.99690428e-01,  3.05078189e-01, -1.00483151e+00,\n",
       "        -4.59740978e-01, -2.07899747e+00, -3.30460678e-01,\n",
       "         3.43635223e-01,  3.70265404e+00,  3.01034496e+00,\n",
       "         1.23885305e+00,  3.90030900e-01,  1.02601686e-01,\n",
       "        -7.83619464e-02, -2.29862063e+00, -3.38428116e+00,\n",
       "        -1.77241836e+00],\n",
       "       [-1.81402103e+00,  2.81737957e+00,  1.53638995e+00,\n",
       "        -1.62353022e-01,  2.48035755e-01, -8.16951694e-01,\n",
       "        -3.73780247e-01, -1.69027393e+00, -2.68672317e-01,\n",
       "         2.79383532e-01,  3.01034496e+00,  2.44748138e+00,\n",
       "         1.00721672e+00,  3.17104311e-01,  8.34175878e-02,\n",
       "        -6.37101086e-02, -1.86883273e+00, -2.75150031e+00,\n",
       "        -1.44101789e+00],\n",
       "       [-7.46527560e-01,  1.15944163e+00,  6.32273509e-01,\n",
       "        -6.68134513e-02,  1.02074631e-01, -3.36201701e-01,\n",
       "        -1.53822503e-01, -6.95601678e-01, -1.10567235e-01,\n",
       "         1.14975242e-01,  1.23885305e+00,  1.00721672e+00,\n",
       "         4.14501831e-01,  1.30498547e-01,  3.43290002e-02,\n",
       "        -2.62187435e-02, -7.69084325e-01, -1.13233021e+00,\n",
       "        -5.93024861e-01],\n",
       "       [-2.35030955e-01,  3.65029624e-01,  1.99060095e-01,\n",
       "        -2.10350296e-02,  3.21363863e-02, -1.05847140e-01,\n",
       "        -4.84282857e-02, -2.18997845e-01, -3.48101320e-02,\n",
       "         3.61979148e-02,  3.90030900e-01,  3.17104311e-01,\n",
       "         1.30498547e-01,  4.10851517e-02,  1.08078766e-02,\n",
       "        -8.25450614e-03, -2.42132553e-01, -3.56494075e-01,\n",
       "        -1.86703355e-01],\n",
       "       [-6.18273379e-02,  9.60248400e-02,  5.23648288e-02,\n",
       "        -5.53348336e-03,  8.45381073e-03, -2.78441913e-02,\n",
       "        -1.27395644e-02, -5.76096614e-02, -9.15716735e-03,\n",
       "         9.52223806e-03,  1.02601686e-01,  8.34175878e-02,\n",
       "         3.43290002e-02,  1.08078766e-02,  2.84312437e-03,\n",
       "        -2.17143371e-03, -6.36954869e-02, -9.37794750e-02,\n",
       "        -4.91142597e-02],\n",
       "       [ 4.72205744e-02, -7.33388863e-02, -3.99935915e-02,\n",
       "         4.22619300e-03, -6.45659044e-03,  2.12659764e-02,\n",
       "         9.72983096e-03,  4.39993277e-02,  6.99377843e-03,\n",
       "        -7.27260086e-03, -7.83619464e-02, -6.37101086e-02,\n",
       "        -2.62187435e-02, -8.25450614e-03, -2.17143371e-03,\n",
       "         1.65843057e-03,  4.86473716e-02,  7.16239907e-02,\n",
       "         3.75109723e-02],\n",
       "       [ 1.38513898e+00, -2.15127731e+00, -1.17314716e+00,\n",
       "         1.23968519e-01, -1.89393611e-01,  6.23802934e-01,\n",
       "         2.85408814e-01,  1.29064893e+00,  2.05151150e-01,\n",
       "        -2.13329954e-01, -2.29862063e+00, -1.86883273e+00,\n",
       "        -7.69084325e-01, -2.42132553e-01, -6.36954869e-02,\n",
       "         4.86473716e-02,  1.42699176e+00,  2.10097363e+00,\n",
       "         1.10032355e+00],\n",
       "       [ 2.03935338e+00, -3.16734617e+00, -1.72723579e+00,\n",
       "         1.82520037e-01, -2.78846026e-01,  9.18431029e-01,\n",
       "         4.20210129e-01,  1.90023478e+00,  3.02046001e-01,\n",
       "        -3.14087732e-01, -3.38428116e+00, -2.75150031e+00,\n",
       "        -1.13233021e+00, -3.56494075e-01, -9.37794750e-02,\n",
       "         7.16239907e-02,  2.10097363e+00,  3.09328358e+00,\n",
       "         1.62001689e+00],\n",
       "       [ 1.06805174e+00, -1.65880500e+00, -9.04589272e-01,\n",
       "         9.55895359e-02, -1.46037458e-01,  4.81001414e-01,\n",
       "         2.20072776e-01,  9.95192438e-01,  1.58187767e-01,\n",
       "        -1.64494272e-01, -1.77241836e+00, -1.44101789e+00,\n",
       "        -5.93024861e-01, -1.86703355e-01, -4.91142597e-02,\n",
       "         3.75109723e-02,  1.10032355e+00,  1.62001689e+00,\n",
       "         8.48436507e-01]])"
      ]
     },
     "execution_count": 11,
     "metadata": {},
     "output_type": "execute_result"
    }
   ],
   "source": [
    "alphas@onp.ones((1000,1000))@alphas.T"
   ]
  },
  {
   "cell_type": "code",
   "execution_count": null,
   "metadata": {},
   "outputs": [],
   "source": []
  },
  {
   "cell_type": "code",
   "execution_count": 8,
   "metadata": {},
   "outputs": [],
   "source": [
    "#from sklearn.gaussian_process.kernels import RBF\n",
    "#kernel = 1.0 * RBF(1.0)\n",
    "#gaussian_mat=onp.stack([kernel(X_used[i:i+1].T) for i in range(7)])"
   ]
  },
  {
   "cell_type": "code",
   "execution_count": 14,
   "metadata": {},
   "outputs": [],
   "source": [
    "gamma=1e-15"
   ]
  },
  {
   "cell_type": "code",
   "execution_count": 15,
   "metadata": {},
   "outputs": [
    {
     "data": {
      "text/plain": [
       "(19, 19)"
      ]
     },
     "execution_count": 15,
     "metadata": {},
     "output_type": "execute_result"
    }
   ],
   "source": [
    "new_ga=alphas@ga\n",
    "new_K=alphas@(K+gamma*onp.eye(K.shape[0]))@alphas.T\n",
    "new_K.shape"
   ]
  },
  {
   "attachments": {},
   "cell_type": "markdown",
   "metadata": {},
   "source": [
    "# all levels"
   ]
  },
  {
   "cell_type": "code",
   "execution_count": 16,
   "metadata": {},
   "outputs": [
    {
     "name": "stdout",
     "output_type": "stream",
     "text": [
      "294.3117210813561 -18.486287626345955 18.486287625975436\n"
     ]
    },
    {
     "data": {
      "text/plain": [
       "1.5920542135345456e-14"
      ]
     },
     "execution_count": 16,
     "metadata": {},
     "output_type": "execute_result"
    }
   ],
   "source": [
    "\n",
    "yb=-onp.linalg.solve(new_K,new_ga)\n",
    "print(onp.dot(yb,yb),onp.dot(new_ga,yb),onp.dot(yb,new_K@yb))\n",
    "\n",
    "noise=-gamma*onp.dot(yb,yb)/onp.dot(new_ga,yb)\n",
    "noise"
   ]
  },
  {
   "attachments": {},
   "cell_type": "markdown",
   "metadata": {},
   "source": [
    "# linear"
   ]
  },
  {
   "cell_type": "code",
   "execution_count": 17,
   "metadata": {},
   "outputs": [
    {
     "name": "stdout",
     "output_type": "stream",
     "text": [
      "gamma 1e-15\n",
      "smallest eigenvalue of Kl -4.650678049036785e-13\n",
      "noise level 9.31135609807357e-13\n"
     ]
    },
    {
     "data": {
      "text/plain": [
       "1.0550624200251841"
      ]
     },
     "execution_count": 17,
     "metadata": {},
     "output_type": "execute_result"
    }
   ],
   "source": [
    "Kl=beta[0]*onp.sum(linear_mat,axis=0)+constant_mat\n",
    "Kl=alphas@(Kl)@alphas.T\n",
    "eigenvalues_linear,alphas_linear = onp.linalg.eigh(Kl)\n",
    "noise_level_linear=gamma+abs(eigenvalues_linear[0])-eigenvalues_linear[0]\n",
    "\n",
    "#norms=onp.sqrt(onp.sum(alphas_linear**2,axis=0))\n",
    "#alphas_linear=norms[onp.newaxis,...]*alphas_linear\n",
    "#alphas_linear=alphas_linear[eigenvalues_linear/max_eigenval>1e-4]\n",
    "\n",
    "\n",
    "ybl=-onp.linalg.solve(Kl+noise_level_linear*onp.eye(Kl.shape[0]),new_ga)\n",
    "#print(Kl)\n",
    "#print(ybl)\n",
    "print('gamma',gamma)\n",
    "print('smallest eigenvalue of Kl',onp.linalg.eigh(Kl)[0][0])\n",
    "print('noise level',noise_level_linear)\n",
    "#print(onp.dot(ga_linear,ybl))\n",
    "linear_noise=-noise_level_linear*onp.dot(ybl,ybl)/onp.dot(new_ga,ybl)\n",
    "linear_noise"
   ]
  },
  {
   "cell_type": "code",
   "execution_count": 18,
   "metadata": {},
   "outputs": [
    {
     "name": "stdout",
     "output_type": "stream",
     "text": [
      "8.543096584822005e-11\n"
     ]
    },
    {
     "data": {
      "text/plain": [
       "0.9992022425628522"
      ]
     },
     "execution_count": 18,
     "metadata": {},
     "output_type": "execute_result"
    }
   ],
   "source": [
    "Kl=beta[0]*onp.sum(linear_mat,axis=0)+constant_mat\n",
    "\n",
    "gamma=1e-15\n",
    "eigenvalues_linear,_ = onp.linalg.eigh(Kl)\n",
    "noise_level_linear=gamma+abs(eigenvalues_linear[0])-eigenvalues_linear[0]\n",
    "print(noise_level_linear)\n",
    "ga_linear=ga\n",
    "Kl=Kl+noise_level_linear*onp.eye(Kl.shape[0])\n",
    "\n",
    "ybl=-onp.linalg.solve(Kl,ga_linear)\n",
    "#print(Kl)\n",
    "#print(ybl)\n",
    "#print(onp.dot(ga_linear,ybl))\n",
    "linear_noise=-noise_level_linear*onp.dot(ybl,ybl)/onp.dot(ga_linear,ybl)\n",
    "linear_noise"
   ]
  },
  {
   "cell_type": "code",
   "execution_count": 19,
   "metadata": {},
   "outputs": [
    {
     "data": {
      "text/plain": [
       "(19, 19)"
      ]
     },
     "execution_count": 19,
     "metadata": {},
     "output_type": "execute_result"
    }
   ],
   "source": [
    "Kl.shape"
   ]
  },
  {
   "attachments": {},
   "cell_type": "markdown",
   "metadata": {},
   "source": [
    "# quadratic"
   ]
  },
  {
   "cell_type": "code",
   "execution_count": 84,
   "metadata": {},
   "outputs": [
    {
     "data": {
      "text/plain": [
       "0.9982749958881375"
      ]
     },
     "execution_count": 84,
     "metadata": {},
     "output_type": "execute_result"
    }
   ],
   "source": [
    "Kq=constant_mat+beta[0]*onp.sum(linear_mat,axis=0)+beta[1]*onp.sum(quadratic_mat,axis=(0,1))\n",
    "Kq=beta[1]*onp.sum(quadratic_mat,axis=(0,1))\n",
    "\n",
    "eigenvalues_quadratic,alphas_quadratic = onp.linalg.eigh(Kq+gamma*onp.eye(Kq.shape[0]))\n",
    "max_eigenval=eigenvalues_quadratic[-1]\n",
    "noise_level_quadratic=gamma+abs(eigenvalues_quadratic[0])-eigenvalues_quadratic[0]\n",
    "\n",
    "norms=onp.sqrt(onp.sum(alphas_quadratic**2,axis=0))\n",
    "alphas_quadratic=norms[onp.newaxis,...]*alphas_quadratic\n",
    "alphas_quadratic=alphas_quadratic[eigenvalues_quadratic/max_eigenval>1e-4]\n",
    "alphas_quadratic=onp.eye(ga.shape[0])\n",
    "ga_quadratic=alphas_quadratic@ga\n",
    "Kq=alphas_quadratic@(Kq+noise_level_quadratic*onp.eye(Kq.shape[0]))@alphas_quadratic.T\n",
    "\n",
    "\n",
    "ybq=-onp.linalg.solve(Kq,ga_quadratic)\n",
    "quadratic_noise=-noise_level_quadratic*onp.dot(ybq,ybq)/onp.dot(ga_quadratic,ybq)\n",
    "quadratic_noise"
   ]
  },
  {
   "attachments": {},
   "cell_type": "markdown",
   "metadata": {},
   "source": [
    "Thus all levels are needed\n",
    "# computing activations"
   ]
  },
  {
   "cell_type": "code",
   "execution_count": 86,
   "metadata": {},
   "outputs": [],
   "source": [
    "def all_but_i(i,linear_mat,quadratic_mat,non_linear_mat):\n",
    "    res=onp.zeros_like(linear_mat[0])\n",
    "    res+=beta[0]*(onp.sum(linear_mat[:i],axis=0)+onp.sum(linear_mat[i+1:],axis=0))\n",
    "    #print('linear\\n',res)\n",
    "    res+=beta[1]*onp.sum(quadratic_mat[:i,:i],axis=(0,1))\n",
    "    res+=beta[1]*onp.sum(quadratic_mat[:i,i+1:],axis=(0,1))\n",
    "    res+=beta[1]*onp.sum(quadratic_mat[i+1:,:i],axis=(0,1))\n",
    "    res+=beta[1]*onp.sum(quadratic_mat[i+1:,i+1:],axis=(0,1))\n",
    "    #print('quadratic\\n',res)\n",
    "    new_non_linear_mat=onp.delete(non_linear_mat,i,axis=0)\n",
    "    plus_one=new_non_linear_mat+onp.ones_like(new_non_linear_mat)\n",
    "    res+=beta[2]*onp.prod(plus_one,axis=0)\n",
    "    #print('non lineaar\\n',res)\n",
    "    return res+onp.ones_like(res)\n",
    "\n",
    "def only_i(i,linear_mat,quadratic_mat,non_linear_mat):\n",
    "    res=onp.zeros_like(linear_mat[0])\n",
    "    res+=beta[0]*linear_mat[i]\n",
    "    res+=beta[1]*onp.sum(quadratic_mat[i],axis=0)\n",
    "    new_non_linear_mat=onp.delete(non_linear_mat,i,axis=0)\n",
    "    res+=beta[2]*non_linear_mat[i]*onp.prod(new_non_linear_mat+onp.ones_like(new_non_linear_mat),axis=0)\n",
    "    return res+onp.ones_like(res)\n",
    "\n",
    "def activation_of_i(i,yb,noise,ga,alphas,linear_mat,quadratic_mat,gaussian_mat):\n",
    "    Ki=alphas@all_but_i(i,linear_mat,quadratic_mat,gaussian_mat)@alphas.T\n",
    "    #print(onp.linalg.norm(Ki))\n",
    "    return 1-noise+onp.dot(yb,Ki@yb)/onp.dot(yb,ga)\n",
    "\n",
    "def activation_of_i_2(i,yb,noise,ga,alphas,linear_mat,quadratic_mat,gaussian_mat):\n",
    "    Ki=alphas@only_i(i,linear_mat,quadratic_mat,gaussian_mat)@alphas.T\n",
    "    #print(onp.linalg.norm(Ki))\n",
    "    return -onp.dot(yb,Ki@yb)/onp.dot(yb,ga)"
   ]
  },
  {
   "cell_type": "code",
   "execution_count": 96,
   "metadata": {},
   "outputs": [],
   "source": [
    "def prune_ancestors(which,yb,noise,linear_mat,quadratic_mat,non_linear_mat,new_ga,alphas):\n",
    "    activations=[activation_of_i(i,yb,noise,new_ga,alphas,linear_mat,quadratic_mat,non_linear_mat) for i in range(which.shape[0])]\n",
    "    print('noise',noise)\n",
    "    print('activation 1',onp.stack([which,activations]))\n",
    "    least_activated=onp.argsort(activations)[0]\n",
    "    new_which=onp.delete(which,least_activated,axis=0)\n",
    "    \n",
    "    new_linear_mat=onp.delete(linear_mat,least_activated,axis=0)\n",
    "    new_quadratic_mat=onp.delete(quadratic_mat,least_activated,axis=0)\n",
    "    new_quadratic_mat=onp.delete(new_quadratic_mat,least_activated,axis=1)\n",
    "    new_non_linear_mat=onp.delete(non_linear_mat,least_activated,axis=0)\n",
    "    K=beta[0]*onp.sum(new_linear_mat,axis=0)+beta[1]*onp.sum(new_quadratic_mat,axis=(0,1))+beta[2]*onp.prod(new_non_linear_mat+onp.ones_like(new_non_linear_mat),axis=0)\n",
    "    K+=onp.ones_like(K)+gamma*onp.eye(K.shape[0])\n",
    "    K=alphas@K@alphas.T\n",
    "    print('min and max eigenvalues',onp.delete(onp.linalg.eigvalsh(K),[k for k in range(1,K.shape[0]-1)]))\n",
    "    new_yb=-onp.linalg.solve(K,new_ga)\n",
    "    new_noise=-gamma*onp.dot(new_yb,new_yb)/onp.dot(new_ga,new_yb)\n",
    "    print('new noise',new_noise)\n",
    "    if new_noise>0.5:\n",
    "        return yb,which,linear_mat,quadratic_mat,non_linear_mat\n",
    "    else:\n",
    "        if len(activations)==2:\n",
    "            return new_yb,new_which,new_linear_mat,new_quadratic_mat,new_non_linear_mat\n",
    "        return prune_ancestors(new_which,new_yb,new_noise,new_linear_mat,new_quadratic_mat,new_non_linear_mat,new_ga,alphas)\n"
   ]
  },
  {
   "cell_type": "code",
   "execution_count": 97,
   "metadata": {},
   "outputs": [
    {
     "name": "stdout",
     "output_type": "stream",
     "text": [
      "noise 1.1787525909477545e-14\n",
      "activation 1 [[0.         1.         2.         3.         4.        ]\n",
      " [0.22559788 0.23421854 0.22652888 0.96394167 0.12104288]]\n",
      "min and max eigenvalues [6.63787588e-05 1.60317957e+05]\n",
      "new noise 4.824653777594712e-14\n",
      "noise 4.824653777594712e-14\n",
      "activation 1 [[0.         1.         2.         3.        ]\n",
      " [0.20128774 0.20771248 0.20213436 0.98691861]]\n",
      "min and max eigenvalues [2.97265831e-08 1.02344933e+05]\n",
      "new noise 3.95480454072759e-12\n",
      "noise 3.95480454072759e-12\n",
      "activation 1 [[1.         2.         3.        ]\n",
      " [0.18808241 0.18238502 0.99494052]]\n",
      "min and max eigenvalues [-8.03697397e-12  5.71905386e+04]\n",
      "new noise 0.08328395347193181\n",
      "noise 0.08328395347193181\n",
      "activation 1 [[1.         3.        ]\n",
      " [0.04425121 0.31933961]]\n",
      "min and max eigenvalues [-4.96236061e-12  2.26725520e+04]\n",
      "new noise 11.002396818527481\n"
     ]
    },
    {
     "data": {
      "text/plain": [
       "array([1, 3])"
      ]
     },
     "execution_count": 97,
     "metadata": {},
     "output_type": "execute_result"
    }
   ],
   "source": [
    "new_yb,new_which,new_linear_mat,new_quadratic_mat,new_non_linear_mat=prune_ancestors(which,yb,noise,linear_mat,quadratic_mat,gaussian_mat,new_ga,alphas)\n",
    "new_which"
   ]
  },
  {
   "cell_type": "code",
   "execution_count": null,
   "metadata": {},
   "outputs": [],
   "source": []
  }
 ],
 "metadata": {
  "kernelspec": {
   "display_name": "Python 3",
   "language": "python",
   "name": "python3"
  },
  "language_info": {
   "codemirror_mode": {
    "name": "ipython",
    "version": 3
   },
   "file_extension": ".py",
   "mimetype": "text/x-python",
   "name": "python",
   "nbconvert_exporter": "python",
   "pygments_lexer": "ipython3",
   "version": "3.10.7"
  },
  "orig_nbformat": 4,
  "vscode": {
   "interpreter": {
    "hash": "aee8b7b246df8f9039afb4144a1f6fd8d2ca17a180786b69acc140d282b71a49"
   }
  }
 },
 "nbformat": 4,
 "nbformat_minor": 2
}
