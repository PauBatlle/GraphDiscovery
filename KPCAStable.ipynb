{
 "cells": [
  {
   "cell_type": "markdown",
   "metadata": {},
   "source": []
  },
  {
   "cell_type": "markdown",
   "metadata": {},
   "source": [
    "# Summary\n",
    "Suppose that the graph has $d$ nodes and for each node, we $N$ observations. Denote by $x_s=(x_{s,1},\\dots, x_{s,d})$ the vector of the $s^{\\textit{th}}$ observation of all the nodes. All the vectors are assumed to be column vectors.\n",
    "\n",
    "\n",
    "1. Choose a tolerance $\\epsilon$, choose a kernel $\\kappa$. Each input of $\\kappa$ is $d$ dimensional.\n",
    "2. Formulate a gram matrix $K$ such that $K_{ij}=\\kappa(x_i, x_j)$. Thus, $K$ is a $N\\times N$ matrix.\n",
    "3. Compute the eigen-decomposition of $K$. Denote by the eigenvalues of $K$ by $(\\lambda_i)_{i=1}^N$ such that $\\lambda_1\\geq \\lambda_2 \\geq ... \\geq \\lambda_N$. Let the corresponding eigenvectors be $(\\alpha_i)_{i=1}^N$. Normalize $\\alpha_i$ such that $|\\alpha_i|^2=1$.\n",
    "4. Choose $r$ such that $r=\\min\\{n|\\lambda_{n+1}/\\lambda_1 \\leq \\epsilon\\}$.\n",
    "5. Let the RKHS associated with $\\kappa$ by $\\mathcal{H}$. Solve the minimization problem\n",
    "$$\n",
    "\\begin{align*}\n",
    "\\min_{f\\in \\mathcal{H}}& \\frac{1}{2}\\|f\\|_{\\mathcal{H}}^2+\\sum_{i=1}^r\\frac{1}{\\gamma_i}\\bigg|\\lambda_i^{-1/2}\\sum_{s=1}^N\\alpha_{i, s}f(x_s)\\bigg|^2, \\\\\n",
    "\\text{s.t. }& [\\boldsymbol{\\phi}, f]=\\boldsymbol{y}.\n",
    "\\end{align*}\\qquad (1)\n",
    "$$\n",
    "6. Since $f=\\Psi v$, $f$ can be viewed as an implicit function of all the nodes. For the above minimization problem, we have the following representer formula:\n",
    "$$\n",
    "f(x)=\\kappa(x, \\bar{\\boldsymbol{\\phi}})\\kappa(\\bar{\\boldsymbol{\\phi}}, \\bar{\\boldsymbol{\\phi}})^{-1}\\begin{pmatrix}\\boldsymbol{z}\\\\ \\boldsymbol{y}\\end{pmatrix},\n",
    "$$\n",
    "where $[\\bar{\\boldsymbol{\\phi}}, f]_i=[\\boldsymbol{\\phi}, f]_i$ for $i> r$, $[\\bar{\\boldsymbol{\\phi}}, f]_i=\\lambda_i^{1/2}f(X_s)\\alpha_{.,i}$ and $\\boldsymbol{z}$ satisfies\n",
    "$$\n",
    "z = -(K(\\bar{\\boldsymbol{\\phi}}, \\bar{\\boldsymbol{\\phi}})_{z,z}^{-1}+G^{-1})^{-1}K(\\bar{\\boldsymbol{\\phi}}, \\bar{\\boldsymbol{\\phi}})^{-1}_{z,y}y \\qquad (2)\n",
    "$$\n",
    "\n",
    "## Mode Decomposition\n",
    "Let $\\kappa = K_a+K_b$. Thus, $f\\in \\mathcal{H}$ can be expressed as $f=f_a+f_b$, where $f_j\\in \\mathcal{H}_j$ and $\\|f\\|_{\\mathcal{H}}^2=\\min \\{\\|f_a\\|_{\\mathcal{H}_a}^2 + \\|f_b\\|_{\\mathcal{H}_b}^2\\}$. We replace the constraint $[\\boldsymbol{\\phi}, f]=\\boldsymbol{y}$ by $f_a = g_a$.\n",
    "\n",
    "For example, let $\\kappa(x, x')=1+\\beta_1 x^Tx'+\\beta_2\\sum_{ij}^dx_ix_jx'_ix'_j+\\beta_3\\prod_{j}^d(1+\\kappa_j(x_j, x_j'))$. For each $i$, taking $K_a = \\beta_1x_ix_i'+\\beta_2\\sum_{j=1}^dx_ix_i'x_jx_j'+\\beta_3\\kappa(x_i,x_i')\\prod_{j\\not=i}(1+\\kappa(x_j, x_j'))$ and $K_b = K - K_a$, and $g_a=x_i$. We consider the following optimization problem\n",
    "$$\n",
    "\\begin{align*}\n",
    "\\min_{f\\in \\mathcal{H}}& \\frac{1}{2}\\|f\\|_{\\mathcal{H}}^2, \\\\\n",
    "\\text{s.t. }& f_a=g_a, [\\varphi, f_b]=-[\\varphi, g_a].\n",
    "\\end{align*}\\qquad (3)\n",
    "$$\n",
    "where $\\varphi_i=\\lambda_i^{-1/2}\\sum_{i=1}^N\\delta_{X_s}a_{s,i}$.\n",
    "\n",
    "# Procedures\n",
    "1. Using the method discussed before (test the energy of other nodes against noise) to determine whether Node $i$ should be function of other nodes or not. If yes, we proceed to determine the ancestors of Node $i$.\n",
    "2. For each Node $i$, set the constraints in (1) such that Node $i$ is the function of other nodes and solve (3). Denote the loss by $l_i$.\n",
    "3. We determine the ancestors of $i$. We add extra constraints ($f_a = x_i, f_{b_h}=0$) such that a potential ancestor Node $h$ is not an ancestor of Node $i$ and resolve (3). Denote by $l_{ih}$ the loss. If $l_{ih} - l_i < \\tau l_i$, where $\\tau$ is the tolerance, Node $h$ can be removed. Otherwise, Node $h$ can be kept. We continue to examine the next potential ancestor.\n",
    "\n"
   ]
  },
  {
   "cell_type": "code",
   "execution_count": 5,
   "metadata": {},
   "outputs": [
    {
     "name": "stdout",
     "output_type": "stream",
     "text": [
      "Examining Node x1\n",
      "\t Node x1, E_Signal = 0.2379, E_Noise = 0.0001\n",
      "\t Node x1 have ancestors\n",
      " \n",
      "Node x1 as a function of other nodes\n",
      "x1 + (0.19047619047616723) + (0.3809523809523338 x2) + (-0.23809523809520877 x3) = 0\n",
      "Energy of Node x1 is 1.2380952380952006\n",
      " \n",
      "Node x1 as a function of other nodes except Node x2\n",
      "x1 + (1.0016987239680475e-13) + (-0.9999999999994001 x3) = 0\n",
      "Energy of Node x1 after eliminating Node x2 is 1.9999999999993916\n",
      "The ratio is 0.6153846153841729\n",
      " \n",
      "Node x1 as a function of other nodes except Node x3\n",
      "x1 + (0.24999999999995953) + (0.49999999999991895 x2) = 0\n",
      "Energy of Node x1 after eliminating Node x3 is 1.3124999999999412\n",
      "The ratio is 0.060096153846138416\n",
      " \n",
      "Examining Node x2\n",
      "\t Node x2, E_Signal = 2.2480, E_Noise = 0.0010\n",
      "\t Node x2 have ancestors\n",
      " \n",
      "Node x2 as a function of other nodes\n",
      "x2 + (0.4999999999998377) + (0.9999999999996754 x1) + (0.9999999999996754 x3) = 0\n",
      "Energy of Node x2 is 3.249999999999269\n",
      " \n",
      "Node x2 as a function of other nodes except Node x1\n",
      "x2 + (0.49999999999973743) + (1.999999999998751 x3) = 0\n",
      "Energy of Node x2 after eliminating Node x1 is 5.24999999999737\n",
      "The ratio is 0.6153846153841696\n",
      " \n",
      "Node x2 as a function of other nodes except Node x3\n",
      "x2 + (0.49999999999973743) + (1.999999999998751 x1) = 0\n",
      "Energy of Node x2 after eliminating Node x3 is 5.24999999999737\n",
      "The ratio is 0.6153846153841696\n",
      " \n",
      "Examining Node x3\n",
      "\t Node x3, E_Signal = 0.2379, E_Noise = 0.0001\n",
      "\t Node x3 have ancestors\n",
      " \n",
      "Node x3 as a function of other nodes\n",
      "x3 + (0.1904761904761672) + (-0.23809523809520877 x1) + (0.3809523809523338 x2) = 0\n",
      "Energy of Node x3 is 1.2380952380952006\n",
      " \n",
      "Node x3 as a function of other nodes except Node x1\n",
      "x3 + (0.24999999999995953) + (0.49999999999991895 x2) = 0\n",
      "Energy of Node x3 after eliminating Node x1 is 1.3124999999999412\n",
      "The ratio is 0.060096153846138416\n",
      " \n",
      "Node x3 as a function of other nodes except Node x2\n",
      "x3 + (1.0016987239680475e-13) + (-0.9999999999994001 x1) = 0\n",
      "Energy of Node x3 after eliminating Node x2 is 1.9999999999993916\n",
      "The ratio is 0.6153846153841729\n",
      " \n"
     ]
    },
    {
     "data": {
      "text/plain": "<Figure size 640x480 with 1 Axes>",
      "image/png": "[encoded data removed]"
     },
     "metadata": {},
     "output_type": "display_data"
    }
   ],
   "source": []
  },
  {
   "cell_type": "code",
   "execution_count": null,
   "metadata": {
    "pycharm": {
     "is_executing": true
    }
   },
   "outputs": [],
   "source": []
  }
 ],
 "metadata": {
  "kernelspec": {
   "display_name": "Python 3 (ipykernel)",
   "language": "python",
   "name": "python3"
  },
  "language_info": {
   "codemirror_mode": {
    "name": "ipython",
    "version": 3
   },
   "file_extension": ".py",
   "mimetype": "text/x-python",
   "name": "python",
   "nbconvert_exporter": "python",
   "pygments_lexer": "ipython3",
   "version": "3.9.7"
  }
 },
 "nbformat": 4,
 "nbformat_minor": 1
}
