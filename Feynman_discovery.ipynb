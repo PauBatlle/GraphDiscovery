{
 "cells": [
  {
   "cell_type": "code",
   "execution_count": 1,
   "metadata": {},
   "outputs": [],
   "source": [
    "import pandas as pd\n",
    "import pickle\n",
    "import sympy\n",
    "import networkx as nx\n",
    "import numpy as onp"
   ]
  },
  {
   "cell_type": "code",
   "execution_count": 2,
   "metadata": {},
   "outputs": [
    {
     "data": {
      "text/latex": [
       "$\\displaystyle x_{2} = x_{0} x_{1}$"
      ],
      "text/plain": [
       "Eq(x_2, x0*x1)"
      ]
     },
     "execution_count": 2,
     "metadata": {},
     "output_type": "execute_result"
    }
   ],
   "source": [
    "def load_eq(eq_name,data_folder='../srsd-feynman_easy/train/',true_eq_folder='../srsd-feynman_easy/true_eq/'):\n",
    "    dataframe = pd.read_csv(f'{data_folder}{eq_name}.txt',header=None,sep=' ').to_numpy()\n",
    "    #X=dataframe[:,:-1,]\n",
    "    #Y=dataframe[:,-1,]\n",
    "    with open(f'{true_eq_folder}{eq_name}.pkl', 'rb') as f:\n",
    "        equation = pickle.load(f)\n",
    "    return dataframe,equation\n",
    "\n",
    "def print_equation(eq):\n",
    "    return sympy.Eq(sympy.S('x_2'), eq, evaluate=False)\n",
    "\n",
    "X,eq=load_eq('feynman-i.12.1')\n",
    "print_equation(eq)"
   ]
  },
  {
   "cell_type": "code",
   "execution_count": 3,
   "metadata": {},
   "outputs": [],
   "source": [
    "import matplotlib.pyplot as plt\n",
    "import numpy as np\n",
    "\n",
    "from GraphDiscovery import *\n",
    "\n",
    "from jax.config import config\n",
    "config.update(\"jax_enable_x64\", True)\n",
    "\n",
    "def matern_five_halfs(v1, v2, a=1, sigma=1):\n",
    "    d = np.sqrt(np.sum((v1 - v2) ** 2))\n",
    "    return a*(1+np.sqrt(5)*d/sigma +5*d**2/(3*sigma**2))*np.exp(-np.sqrt(5)*d/sigma)\n"
   ]
  },
  {
   "cell_type": "code",
   "execution_count": 5,
   "metadata": {},
   "outputs": [
    {
     "name": "stdout",
     "output_type": "stream",
     "text": [
      "Examining Node x2\n",
      "Node x2 as a function of other nodes\n",
      "x2 = 1.0 * x1x0 \n",
      "\n"
     ]
    },
    {
     "data": {
      "image/png": "[encoded data removed]",
      "text/plain": [
       "<Figure size 640x480 with 1 Axes>"
      ]
     },
     "metadata": {},
     "output_type": "display_data"
    }
   ],
   "source": [
    "ks = [matern_five_halfs]*3\n",
    "kpca = GraphDiscovery()\n",
    "\n",
    "#d = 3\n",
    "preG = nx.complete_graph(X.shape[1]).to_directed()\n",
    "G = nx.create_empty_copy(preG)\n",
    "names = onp.array([f'x{k}' for k in range(X.shape[1])])\n",
    "G = nx.relabel_nodes(G, {k:name for k,name in enumerate(names)})\n",
    "\n",
    "examing_nodes = [-1]\n",
    "\n",
    "fig = plt.figure\n",
    "gamma = 1e-13\n",
    "G = kpca.discovery_in_graph((X.T)[:,:200], ks, gamma, G, names, examing_nodes, beta1=1, beta2=1e-1, beta3=0, epsilon=1e-3, verbose=True)\n",
    "kpca.plot_graph(G)\n",
    "plt.show()"
   ]
  },
  {
   "cell_type": "code",
   "execution_count": null,
   "metadata": {},
   "outputs": [],
   "source": []
  }
 ],
 "metadata": {
  "kernelspec": {
   "display_name": "Python 3",
   "language": "python",
   "name": "python3"
  },
  "language_info": {
   "codemirror_mode": {
    "name": "ipython",
    "version": 3
   },
   "file_extension": ".py",
   "mimetype": "text/x-python",
   "name": "python",
   "nbconvert_exporter": "python",
   "pygments_lexer": "ipython3",
   "version": "3.10.7"
  },
  "orig_nbformat": 4,
  "vscode": {
   "interpreter": {
    "hash": "aee8b7b246df8f9039afb4144a1f6fd8d2ca17a180786b69acc140d282b71a49"
   }
  }
 },
 "nbformat": 4,
 "nbformat_minor": 2
}
