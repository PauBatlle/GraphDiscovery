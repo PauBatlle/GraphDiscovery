{
 "cells": [
  {
   "cell_type": "code",
   "execution_count": 42,
   "metadata": {},
   "outputs": [
    {
     "name": "stdout",
     "output_type": "stream",
     "text": [
      "The autoreload extension is already loaded. To reload it, use:\n",
      "  %reload_ext autoreload\n"
     ]
    }
   ],
   "source": [
    "%load_ext autoreload\n",
    "%autoreload 2"
   ]
  },
  {
   "cell_type": "code",
   "execution_count": 43,
   "metadata": {},
   "outputs": [],
   "source": [
    "from newGraphDiscovery import GraphDiscoveryNew\n",
    "import numpy as onp"
   ]
  },
  {
   "cell_type": "code",
   "execution_count": 55,
   "metadata": {},
   "outputs": [],
   "source": [
    "def sample_X(n):\n",
    "    X=10*onp.random.standard_normal((4,n))\n",
    "    #X=10*onp.random.rand(4,n)\n",
    "    Y1=X[0]*X[1]\n",
    "    Y2=X[1]+onp.sin(X[3])\n",
    "    X=onp.concatenate([X,onp.expand_dims(Y1,axis=0),onp.expand_dims(Y2,axis=0)])\n",
    "    return X"
   ]
  },
  {
   "cell_type": "code",
   "execution_count": 56,
   "metadata": {},
   "outputs": [],
   "source": [
    "X=sample_X(1000)"
   ]
  },
  {
   "cell_type": "code",
   "execution_count": 57,
   "metadata": {},
   "outputs": [
    {
     "name": "stdout",
     "output_type": "stream",
     "text": [
      "Computing kernel matrix\n"
     ]
    }
   ],
   "source": [
    "beta=onp.array([0.1,0.01,0.001])\n",
    "graph_discovery=GraphDiscoveryNew(X,beta,onp.array(['X0','X1','X2','X3','Y1','Y2']),l=1)\n"
   ]
  },
  {
   "cell_type": "code",
   "execution_count": 58,
   "metadata": {},
   "outputs": [
    {
     "name": "stdout",
     "output_type": "stream",
     "text": [
      "Computing kernel matrix\n",
      "inspecting X0\n",
      "linear kernel (using gamma=1.94e+01)\n",
      " n/(n+s)=1.00, Z=0.66\n",
      " decision : refused\n",
      "quadratic kernel (using gamma=3.38e-01)\n",
      " n/(n+s)=1.00, Z=-0.31\n",
      " decision : refused\n",
      "gaussian kernel (using gamma=2.42e-02)\n",
      " n/(n+s)=0.48, Z=-5.93\n",
      " decision : accepted\n",
      "X0 has ancestors with gaussian kernel (n/(s+n)=0.48)\n",
      "ancestors after pruning:  ['Y1'] \n",
      "\n",
      "\n",
      "\n",
      "inspecting X1\n",
      "linear kernel (using gamma=2.74e+03)\n",
      " n/(n+s)=0.23, Z=-22.30\n",
      " decision : accepted\n",
      "X1 has ancestors with linear kernel (n/(s+n)=0.23)\n",
      "ancestors after pruning:  ['Y2'] \n",
      "\n",
      "\n",
      "\n",
      "inspecting X2\n",
      "linear kernel (using gamma=1.96e+01)\n",
      " n/(n+s)=1.00, Z=-5.80\n",
      " decision : refused\n",
      "quadratic kernel (using gamma=3.39e-01)\n",
      " n/(n+s)=1.00, Z=-1.94\n",
      " decision : refused\n",
      "gaussian kernel (using gamma=2.31e-02)\n",
      " n/(n+s)=0.50, Z=0.79\n",
      " decision : refused\n",
      "X2 has no ancestors (n/(s+n)=0.50)\n",
      "\n",
      "\n",
      "\n",
      "inspecting X3\n",
      "linear kernel (using gamma=1.94e+01)\n",
      " n/(n+s)=1.00, Z=0.67\n",
      " decision : refused\n",
      "quadratic kernel (using gamma=3.38e-01)\n",
      " n/(n+s)=1.00, Z=0.50\n",
      " decision : refused\n",
      "gaussian kernel (using gamma=2.34e-02)\n",
      " n/(n+s)=0.49, Z=-1.49\n",
      " decision : refused\n",
      "X3 has no ancestors (n/(s+n)=0.49)\n",
      "\n",
      "\n",
      "\n",
      "inspecting Y1\n",
      "linear kernel (using gamma=2.67e+01)\n",
      " n/(n+s)=1.00, Z=-0.38\n",
      " decision : refused\n",
      "quadratic kernel (using gamma=2.24e-01)\n",
      " n/(n+s)=0.00, Z=-22.13\n",
      " decision : accepted\n",
      "Y1 has ancestors with quadratic kernel (n/(s+n)=0.00)\n",
      "ancestors after pruning:  ['X0', 'X1'] \n",
      "\n",
      "\n",
      "\n",
      "inspecting Y2\n",
      "linear kernel (using gamma=2.73e+03)\n",
      " n/(n+s)=0.23, Z=-22.30\n",
      " decision : accepted\n",
      "Y2 has ancestors with linear kernel (n/(s+n)=0.23)\n",
      "ancestors after pruning:  ['X1'] \n",
      "\n",
      "\n",
      "\n"
     ]
    },
    {
     "data": {
      "image/png": "[encoded data removed]",
      "text/plain": [
       "<Figure size 640x480 with 1 Axes>"
      ]
     },
     "metadata": {},
     "output_type": "display_data"
    }
   ],
   "source": [
    "graph_discovery=GraphDiscoveryNew(X,beta,onp.array(['X0','X1','X2','X3','Y1','Y2']),l=1)\n",
    "for node in graph_discovery.names:\n",
    "    print(f'inspecting {node}')\n",
    "    graph_discovery.find_ancestors(node,gamma='auto',kPCA='no')\n",
    "    print('\\n')\n",
    "graph_discovery.plot_graph()"
   ]
  },
  {
   "cell_type": "code",
   "execution_count": null,
   "metadata": {},
   "outputs": [],
   "source": []
  }
 ],
 "metadata": {
  "kernelspec": {
   "display_name": "Python 3",
   "language": "python",
   "name": "python3"
  },
  "language_info": {
   "codemirror_mode": {
    "name": "ipython",
    "version": 3
   },
   "file_extension": ".py",
   "mimetype": "text/x-python",
   "name": "python",
   "nbconvert_exporter": "python",
   "pygments_lexer": "ipython3",
   "version": "3.10.7"
  },
  "orig_nbformat": 4,
  "vscode": {
   "interpreter": {
    "hash": "aee8b7b246df8f9039afb4144a1f6fd8d2ca17a180786b69acc140d282b71a49"
   }
  }
 },
 "nbformat": 4,
 "nbformat_minor": 2
}
