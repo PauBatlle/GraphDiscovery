{
 "cells": [
  {
   "cell_type": "markdown",
   "metadata": {},
   "source": [
    "# Summary\n",
    "Suppose that the graph has $d$ nodes and for each node, we $N$ observations. Denote by $x_s=(x_{s,1},\\dots, x_{s,d})$ the vector of the $s^{\\textit{th}}$ observation of all the nodes. All the vectors are assumed to be column vectors.\n",
    "\n",
    "\n",
    "1. Choose a tolerance $\\epsilon$, choose a kernel $\\kappa$. Each input of $\\kappa$ is $d$ dimensional.\n",
    "2. Formulate a gram matrix $K$ such that $K_{ij}=\\kappa(x_i, x_j)$. Thus, $K$ is a $N\\times N$ matrix.\n",
    "3. Compute the eigen-decomposition of $K$. Denote by the eigenvalues of $K$ by $(\\lambda_i)_{i=1}^N$ such that $\\lambda_1\\geq \\lambda_2 \\geq ... \\geq \\lambda_N$. Let the corresponding eigenvectors be $(\\alpha_i)_{i=1}^N$. Normalize $\\alpha_i$ such that $|\\alpha_i|^2=\\frac{1}{N\\lambda_i}$.\n",
    "4. Choose $r$ such that $r=\\min\\{n|\\lambda_{n+1}/\\lambda_1 \\leq \\epsilon\\}$.\n",
    "5. Let the RKHS associated with $\\kappa$ by $\\mathcal{H}$. Solve the minimization problem\n",
    "$$\n",
    "\\begin{align*}\n",
    "\\min_{f\\in \\mathcal{H}}& \\frac{1}{2}\\|f\\|_{\\mathcal{H}}^2+\\frac{1}{\\gamma}\\sum_{i=1}^r\\lambda_i\\bigg|\\sum_{s=1}^N\\alpha_{i, s}f(x_s)\\bigg|^2, \\\\\n",
    "\\text{s.t. }& [\\boldsymbol{\\phi}, f]=\\boldsymbol{y}.\n",
    "\\end{align*}\\qquad (1)\n",
    "$$\n",
    "6. Since $f=\\Psi v$, $f$ can be viewed as an implicit function of all the nodes. For the above minimization problem, we have the following representer formula:\n",
    "$$\n",
    "f(x)=\\kappa(x, \\boldsymbol{\\varphi})\\kappa(\\boldsymbol{\\varphi}, \\boldsymbol{\\varphi})^{-1}\\boldsymbol{z},\n",
    "$$\n",
    "where $\\boldsymbol{\\varphi}=[\\delta_{x_1},\\dots, \\delta_{x_N}, \\boldsymbol{\\phi}]$ and $\\boldsymbol{z}$ solves\n",
    "$$\n",
    "\\begin{align*}\n",
    "\\min_{\\boldsymbol{z}}&\\frac{1}{2}\\boldsymbol{z}^T\\kappa(\\boldsymbol{\\varphi}, \\boldsymbol{\\varphi})^{-1}\\boldsymbol{z}+\\frac{1}{\\gamma}\\sum_{i=1}^r\\lambda_i\\bigg|\\sum_{s=1}^N\\alpha_{i,s}z_s^{(1)}\\bigg|^2,\\\\\n",
    "\\text{s.t. }& z^{(2)}=\\boldsymbol{y}.\n",
    "\\end{align*} \\qquad (2)\n",
    "$$\n",
    "We note that $(2)$ can be solved explicitly.\n",
    "\n",
    "\n",
    "Alternatively, we can use the mode decomposition.Let $\\kappa = \\sum_{j=1}^k\\kappa_j$. Thus, $f\\in \\mathcal{H}$ can be expressed as $f=\\sum_{j=1}^kf_j$, where $f_j\\in \\mathcal{H}_j$ and $\\|f\\|_{\\mathcal{H}}^2=\\sum_{j=1}^k\\|f\\|_{\\mathcal{H}_j}^2$.\n",
    "\n",
    "For example, let $\\kappa(x, x')=1+x^Tx'+\\gamma_2\\sum_{ij}^dx_ix_jx'_ix'_j+\\gamma_3\\prod_{j}^d(1+\\kappa_j(x_j, x_j'))$. Then, $f$ has the following form\n",
    "$$\n",
    "f=\\beta_0 + \\sum_{i=1}^d\\beta_ix_i+\\sum_{i,j=1}^d\\beta_{ij}x_ix_j+f_3.\n",
    "$$\n",
    "Then,\n",
    "$$\n",
    "\\|f\\|_{\\mathcal{H}}^2=\\beta_0^2+\\sum_{i=1}^d\\beta_i^2+\\frac{1}{\\gamma_2}\\sum_{ij}\\beta_{ij}^2+\\frac{1}{\\gamma_3}\\|f_3\\|_{\\Gamma_3}^2.\n",
    "$$\n",
    "\n",
    "# Procedures\n",
    "1. Using the method discussed before (test the energy of other nodes against noise) to determine whether Node $i$ should be function of other nodes or not. If yes, we proceed to determine the ancestors of Node $i$.\n",
    "2. For each Node $i$, set the constraints in (1) such that Node $i$ is the function of other nodes and solve (1). Denote the loss by $l_i$.\n",
    "3. We determine the ancestors of $i$. We add extra constraints such that a potential ancestor Node $h$ is not an ancestor of Node $i$ and resolve (1). Denote by $l_{ih}$ the loss. If $l_{ih} - l_i < \\tau l_i$, where $\\tau$ is the tolerance, Node $h$ can be removed. Otherwise, Node $h$ can be kept. We continue to examine the next potential ancestor.\n",
    "\n",
    "# Minimization Problems\n",
    "\n",
    "## First-step Minimization Problem\n",
    "Thus, for the 1st step, we solve the following minimization problem\n",
    "$$\n",
    "\\begin{align*}\n",
    "\\min\\beta_0^2+\\sum_{j=1,j\\not=i}^d\\beta_j^2+\\frac{1}{\\gamma_2}\\sum_{jk,j\\not=i, k\\not=i}\\beta_{jk}^2+\\frac{1}{\\gamma_3}\\|f_3^{-i}\\|_{\\Gamma_3^{-i}}^2+\\frac{1}{\\gamma}\\sum_{t=1}^r\\lambda_t\\bigg|\\sum_{s=1}^N\\alpha_{t,s}\\big(\\beta_0+\\sum_{j=1,j\\not=i}\\beta_jx_j^s+x_i^s+\\sum_{jk,j\\not=i,k\\not=i}\\beta_{jk}x_j^sx_k^s+f_3^{-i}(x_s)\\big)\\bigg|^2,\n",
    "\\end{align*}\n",
    "$$\n",
    "which is equivalent to\n",
    "$$\n",
    "\\begin{align*}\n",
    "\\min\\beta_0^2+\\sum_{j=1,j\\not=i}^d\\beta_j^2+\\frac{1}{\\gamma_2}\\sum_{jk,j\\not=i, k\\not=i}\\beta_{jk}^2+\\frac{1}{\\gamma_3}\\boldsymbol{z}^T\\Gamma_{3,-i}^{-1}\\boldsymbol{z}+\\frac{1}{\\gamma}\\sum_{t=1}^r\\lambda_t\\bigg|\\sum_{s=1}^N\\alpha_{t,s}\\big(\\beta_0+\\sum_{j=1,j\\not=i}\\beta_jx_j^s+x_i^s+\\sum_{jk,j\\not=i,k\\not=i}\\beta_{jk}x_j^sx_k^s+z_s\\big)\\bigg|^2.\n",
    "\\end{align*} (3)\n",
    "$$\n",
    "\n",
    "## Second-step Minimization Problem\n",
    "For the 2nd step, we solve the following minimization problem\n",
    "$$\n",
    "\\begin{align*}\n",
    "\\min\\beta_0^2+\\sum_{j=1,j\\not=i,h}^d\\beta_j^2+\\frac{1}{\\gamma_2}\\sum_{jk,j\\not=i,h, k\\not=i,h}\\beta_{jk}^2+\\frac{1}{\\gamma_3}\\|f_3^{-i,-h}\\|_{\\Gamma_3^{-i,-h}}^2+\\frac{1}{\\gamma}\\sum_{t=1}^r\\lambda_t\\bigg|\\sum_{s=1}^N\\alpha_{t,s}\\big(\\beta_0+\\sum_{j=1,j\\not=i,h}\\beta_jx_j^s+x_i^s+\\sum_{jk,j\\not=i,h,k\\not=i,h}\\beta_{jk}x_j^sx_k^s+f_3^{-i,-h}(x_s)\\big)\\bigg|^2,\n",
    "\\end{align*}\n",
    "$$\n",
    "which is equivalent to\n",
    "$$\n",
    "\\begin{align*}\n",
    "\\min\\beta_0^2+\\sum_{j=1,j\\not=i,h}^d\\beta_j^2+\\frac{1}{\\gamma_2}\\sum_{jk,j\\not=i,h, k\\not=i,h}\\beta_{jk}^2+\\frac{1}{\\gamma_3}\\boldsymbol{z}^T\\Gamma_{3,-i,-h}^{-1}\\boldsymbol{z}+\\frac{1}{\\gamma}\\sum_{t=1}^r\\lambda_t\\bigg|\\sum_{s=1}^N\\alpha_{t,s}\\big(\\beta_0+\\sum_{j=1,j\\not=i,h}\\beta_jx_j^s+x_i^s+\\sum_{jk,j\\not=i,h,k\\not=i,h}\\beta_{jk}x_j^sx_k^s+z_s\\big)\\bigg|^2.\n",
    "\\end{align*} (4)\n",
    "$$\n",
    "\n",
    "Questions:\n",
    "1. If we do not add any constraints, the solution of (1) is $0$;\n",
    "2. Scipy.optimize.minimize does not solve (3) well;\n",
    "3. Now we use jax to compute the Hessian and the Jacobian of the optimization problem and solve the linear system. But the Hessian is ill-conditioned. We cannot solve the linear system correctly.\n"
   ]
  },
  {
   "cell_type": "code",
   "execution_count": 1,
   "metadata": {},
   "outputs": [],
   "source": [
    "import jax\n",
    "import numpy as onp\n",
    "import jax.numpy as np\n",
    "from jax import jit, vmap\n",
    "import matplotlib.pyplot as plt\n",
    "from tqdm.notebook import tqdm as t\n",
    "from ipywidgets import interact\n",
    "from jax import grad\n",
    "from jax.scipy.optimize import minimize\n",
    "from jax.config import config\n",
    "config.update(\"jax_enable_x64\", True)\n",
    "from jax.scipy.linalg import cho_factor, cho_solve\n",
    "from functools import reduce\n",
    "#from jax.scipy.optimize import minimize\n",
    "#from jaxopt import ProjectedGradient\n",
    "#from jaxopt.projection import projection_box"
   ]
  },
  {
   "cell_type": "code",
   "execution_count": 2,
   "metadata": {},
   "outputs": [],
   "source": [
    "x1s = np.linspace(-2, 2, 500)\n",
    "x2s = x1s**2 + 1 + onp.random.random(size = len(x1s))*1e-1"
   ]
  },
  {
   "cell_type": "code",
   "execution_count": 3,
   "metadata": {},
   "outputs": [
    {
     "name": "stdout",
     "output_type": "stream",
     "text": [
      "Examining Node x0\n",
      "\t Node x0, E_Signal = 2.4674, E_Noise = 6686.0067\n",
      "\t Node x0 does not have any ancestors\n",
      " \n",
      "Examining Node x1\n",
      "\t Node x1, E_Signal = 28.4717, E_Noise = 5.7980\n",
      "\t Node x1 have ancestors\n",
      "Energy of Node x1 is 0.0002141166361881739\n"
     ]
    },
    {
     "ename": "TypeError",
     "evalue": "reduce() of empty sequence with no initial value",
     "output_type": "error",
     "traceback": [
      "\u001B[0;31m---------------------------------------------------------------------------\u001B[0m",
      "\u001B[0;31mTypeError\u001B[0m                                 Traceback (most recent call last)",
      "Cell \u001B[0;32mIn [3], line 8\u001B[0m\n\u001B[1;32m      5\u001B[0m kpca \u001B[38;5;241m=\u001B[39m KPCA()\n\u001B[1;32m      7\u001B[0m X \u001B[38;5;241m=\u001B[39m np\u001B[38;5;241m.\u001B[39marray([x1s, x2s])\n\u001B[0;32m----> 8\u001B[0m \u001B[43mkpca\u001B[49m\u001B[38;5;241;43m.\u001B[39;49m\u001B[43mbuild_graph\u001B[49m\u001B[43m(\u001B[49m\u001B[43mX\u001B[49m\u001B[43m,\u001B[49m\u001B[43m \u001B[49m\u001B[43mks\u001B[49m\u001B[43m,\u001B[49m\u001B[43m \u001B[49m\u001B[43mgamma\u001B[49m\u001B[38;5;241;43m=\u001B[39;49m\u001B[38;5;241;43m1e-10\u001B[39;49m\u001B[43m,\u001B[49m\u001B[43m \u001B[49m\u001B[43mgamma2\u001B[49m\u001B[38;5;241;43m=\u001B[39;49m\u001B[38;5;241;43m1\u001B[39;49m\u001B[43m,\u001B[49m\u001B[43m \u001B[49m\u001B[43mgamma3\u001B[49m\u001B[38;5;241;43m=\u001B[39;49m\u001B[38;5;241;43m1\u001B[39;49m\u001B[43m,\u001B[49m\u001B[43m \u001B[49m\u001B[43mepsilon\u001B[49m\u001B[38;5;241;43m=\u001B[39;49m\u001B[38;5;241;43m1e-10\u001B[39;49m\u001B[43m,\u001B[49m\u001B[43m \u001B[49m\u001B[43mtau1\u001B[49m\u001B[38;5;241;43m=\u001B[39;49m\u001B[38;5;241;43m0.5\u001B[39;49m\u001B[43m,\u001B[49m\u001B[43m \u001B[49m\u001B[43mtau2\u001B[49m\u001B[38;5;241;43m=\u001B[39;49m\u001B[38;5;241;43m0.5\u001B[39;49m\u001B[43m,\u001B[49m\u001B[43m \u001B[49m\u001B[43mnames\u001B[49m\u001B[38;5;241;43m=\u001B[39;49m\u001B[43m[\u001B[49m\u001B[38;5;124;43m'\u001B[39;49m\u001B[38;5;124;43mx0\u001B[39;49m\u001B[38;5;124;43m'\u001B[39;49m\u001B[43m,\u001B[49m\u001B[43m \u001B[49m\u001B[38;5;124;43m'\u001B[39;49m\u001B[38;5;124;43mx1\u001B[39;49m\u001B[38;5;124;43m'\u001B[39;49m\u001B[43m]\u001B[49m\u001B[43m,\u001B[49m\u001B[43m \u001B[49m\u001B[43mnoise_scale\u001B[49m\u001B[43m \u001B[49m\u001B[38;5;241;43m=\u001B[39;49m\u001B[43m \u001B[49m\u001B[38;5;241;43m0.1\u001B[39;49m\u001B[43m,\u001B[49m\u001B[43m \u001B[49m\u001B[43mverbose\u001B[49m\u001B[38;5;241;43m=\u001B[39;49m\u001B[38;5;28;43;01mTrue\u001B[39;49;00m\u001B[43m,\u001B[49m\u001B[43m \u001B[49m\u001B[43mplot\u001B[49m\u001B[38;5;241;43m=\u001B[39;49m\u001B[38;5;28;43;01mTrue\u001B[39;49;00m\u001B[43m)\u001B[49m\n",
      "File \u001B[0;32m~/Documents/github/GraphDiscovery/KPCA.py:247\u001B[0m, in \u001B[0;36mKPCA.build_graph\u001B[0;34m(self, X, ks, gamma, gamma2, gamma3, epsilon, tau1, tau2, noise_scale, nugget, names, verbose, plot)\u001B[0m\n\u001B[1;32m    245\u001B[0m other_nodes \u001B[38;5;241m=\u001B[39m np\u001B[38;5;241m.\u001B[39msetdiff1d(np\u001B[38;5;241m.\u001B[39marray(\u001B[38;5;28mrange\u001B[39m(d)), np\u001B[38;5;241m.\u001B[39marray([i, j]))\n\u001B[1;32m    246\u001B[0m other_Ms \u001B[38;5;241m=\u001B[39m [Ms[k] \u001B[38;5;28;01mfor\u001B[39;00m k \u001B[38;5;129;01min\u001B[39;00m other_nodes\u001B[38;5;241m.\u001B[39mtolist()]\n\u001B[0;32m--> 247\u001B[0m Gamma3mimj \u001B[38;5;241m=\u001B[39m \u001B[43mreduce\u001B[49m\u001B[43m(\u001B[49m\u001B[43mnp\u001B[49m\u001B[38;5;241;43m.\u001B[39;49m\u001B[43mmultiply\u001B[49m\u001B[43m,\u001B[49m\u001B[43m \u001B[49m\u001B[43mother_Ms\u001B[49m\u001B[43m)\u001B[49m \u001B[38;5;66;03m#Use multiplication instead of division below seems to be more stable\u001B[39;00m\n\u001B[1;32m    248\u001B[0m \u001B[38;5;66;03m#Gamma3mimj = np.divide(Gamma3mi, Ms[j])  # The gram matrix associated with the kernel without the ith kernel\u001B[39;00m\n\u001B[1;32m    249\u001B[0m L_Gamma3mimj \u001B[38;5;241m=\u001B[39m np\u001B[38;5;241m.\u001B[39mlinalg\u001B[38;5;241m.\u001B[39mcholesky(Gamma3mimj \u001B[38;5;241m+\u001B[39m nugget \u001B[38;5;241m*\u001B[39m np\u001B[38;5;241m.\u001B[39meye(\u001B[38;5;28mlen\u001B[39m(Gamma3mimj)))\n",
      "\u001B[0;31mTypeError\u001B[0m: reduce() of empty sequence with no initial value"
     ]
    }
   ],
   "source": [
    "from KPCA import *\n",
    "from kernels import matern_five_halfs as k\n",
    "\n",
    "ks = [k]*2\n",
    "kpca = KPCA()\n",
    "\n",
    "X = np.array([x1s, x2s])\n",
    "kpca.build_graph(X, ks, gamma=1e-10, gamma2=1, gamma3=1, epsilon=1e-10, tau1=0.5, tau2=0.5, names=['x0', 'x1'], noise_scale = 0.1, verbose=True, plot=True)"
   ]
  },
  {
   "cell_type": "code",
   "execution_count": 4,
   "metadata": {},
   "outputs": [
    {
     "name": "stdout",
     "output_type": "stream",
     "text": [
      "Examining Node x0\n",
      "\t Node x0, E_Signal = 139.0674, E_Noise = 923.0979\n",
      "\t Node x0 does not have any ancestors\n",
      " \n",
      "Examining Node x1\n",
      "\t Node x1, E_Signal = 13.6460, E_Noise = 0.2579\n",
      "\t Node x1 have ancestors\n",
      "Energy of Node x1 is 5.129717715007112e-09\n",
      "Energy of Node x1 after eliminating Node x0 is 2.8144166653142607e-05\n",
      "The ratio is 5485.4942316038505\n",
      "Energy of Node x1 after eliminating Node x2 is 5.238716721171022e-06\n",
      "The ratio is 1020.248538851374\n",
      " \n",
      "Examining Node x2\n",
      "\t Node x2, E_Signal = 227.6917, E_Noise = 14.0768\n",
      "\t Node x2 have ancestors\n",
      "Energy of Node x2 is 1.8264015462582302e-07\n",
      "Energy of Node x2 after eliminating Node x0 is 0.0002952085204171228\n",
      "The ratio is 1615.3396325518881\n",
      "Energy of Node x2 after eliminating Node x1 is 7.699477801327983e-05\n",
      "The ratio is 420.5654447458168\n",
      " \n"
     ]
    },
    {
     "data": {
      "text/plain": [
       "<networkx.classes.digraph.DiGraph at 0x2aa93c1f0>"
      ]
     },
     "execution_count": 4,
     "metadata": {},
     "output_type": "execute_result"
    },
    {
     "data": {
      "image/png": "[encoded data removed]",
      "text/plain": [
       "<Figure size 640x480 with 1 Axes>"
      ]
     },
     "metadata": {},
     "output_type": "display_data"
    }
   ],
   "source": [
    "#What we expect to recover is X1-> X2 -> X3\n",
    "ks = [k]*3\n",
    "x0s = np.linspace(-2, 2, 100)\n",
    "x1s = x0s**2 + 1 + onp.random.random(size = len(x0s))*1e-1\n",
    "x2s = x1s**2 - 1 + onp.random.random(size = len(x0s))*1e-1\n",
    "\n",
    "X = np.array([x0s, x1s, x2s])\n",
    "kpca.build_graph(X, ks, gamma=1e-10, gamma2=1, gamma3=1, epsilon=1e-10, tau1=0.5, tau2=0.5, names=['x0', 'x1', 'x2'], verbose=True, plot=True)"
   ]
  },
  {
   "cell_type": "code",
   "execution_count": 5,
   "metadata": {},
   "outputs": [
    {
     "name": "stdout",
     "output_type": "stream",
     "text": [
      "Examining Node x1\n",
      "\t Node x1, E_Signal = 39.1059, E_Noise = 373.3893\n",
      "\t Node x1 does not have any ancestors\n",
      " \n",
      "Examining Node x2\n",
      "\t Node x2, E_Signal = 4.5499, E_Noise = 12.1045\n",
      "\t Node x2 does not have any ancestors\n",
      " \n",
      "Examining Node x3\n",
      "\t Node x3, E_Signal = 32.9676, E_Noise = 13.3978\n",
      "\t Node x3 have ancestors\n",
      "Energy of Node x3 is 9.18620288207764e-05\n",
      "Energy of Node x3 after eliminating Node x1 is 0.0025598259950388286\n",
      "The ratio is 26.865985847461207\n",
      "Energy of Node x3 after eliminating Node x2 is 0.001781698308551112\n",
      "The ratio is 18.39537294595595\n",
      " \n"
     ]
    },
    {
     "data": {
      "text/plain": [
       "<networkx.classes.digraph.DiGraph at 0x2aafacfd0>"
      ]
     },
     "execution_count": 5,
     "metadata": {},
     "output_type": "execute_result"
    },
    {
     "data": {
      "image/png": "[encoded data removed]",
      "text/plain": [
       "<Figure size 640x480 with 1 Axes>"
      ]
     },
     "metadata": {},
     "output_type": "display_data"
    }
   ],
   "source": [
    "x0s = np.linspace(-2, 2, 100)\n",
    "onp.random.seed(0)\n",
    "x1s = onp.random.random(100)\n",
    "x2s = (x0s + x1s)**2 + onp.random.normal(size = len(x1s))*1e-1\n",
    "X = np.array([x0s, x1s, x2s])\n",
    "\n",
    "kpca.build_graph(X, ks, gamma=1e-8, gamma2=1, gamma3=1, epsilon=1e-8, tau1=0.5, tau2=0.5, names=['x1', 'x2', 'x3'], noise_scale=1e-1, verbose=True, plot=True)"
   ]
  },
  {
   "cell_type": "code",
   "execution_count": 6,
   "metadata": {},
   "outputs": [
    {
     "name": "stdout",
     "output_type": "stream",
     "text": [
      "Examining Node x1\n",
      "\t Node x1, E_Signal = 13.0228, E_Noise = 0.4730\n",
      "\t Node x1 have ancestors\n",
      "Energy of Node x1 is 7.127570950761756e-09\n",
      "Energy of Node x1 after eliminating Node x2 is 1.2270570170065534e-06\n",
      "The ratio is 171.1564086114656\n",
      "Energy of Node x1 after eliminating Node x3 is 5.4139861126753886e-05\n",
      "The ratio is 7594.8361552286915\n",
      " \n",
      "Examining Node x2\n",
      "\t Node x2, E_Signal = 5474.0270, E_Noise = 1258.5021\n",
      "\t Node x2 have ancestors\n",
      "Energy of Node x2 is 1.0962104075103292e-05\n",
      "Energy of Node x2 after eliminating Node x1 is 0.0007616568967158098\n",
      "The ratio is 68.4809036201048\n",
      "Energy of Node x2 after eliminating Node x3 is 0.0001465255387394287\n",
      "The ratio is 12.366552418728796\n",
      " \n",
      "Examining Node x3\n",
      "\t Node x3, E_Signal = 2097.0070, E_Noise = 31.3221\n",
      "\t Node x3 have ancestors\n",
      "Energy of Node x3 is 1.0399561413792508e-06\n",
      "Energy of Node x3 after eliminating Node x1 is 0.003573606113906052\n",
      "The ratio is 3435.3046398923384\n",
      "Energy of Node x3 after eliminating Node x2 is 0.00010267624981584605\n",
      "The ratio is 97.7313269573761\n",
      " \n"
     ]
    },
    {
     "data": {
      "text/plain": [
       "<networkx.classes.digraph.DiGraph at 0x2abbeca00>"
      ]
     },
     "execution_count": 6,
     "metadata": {},
     "output_type": "execute_result"
    },
    {
     "data": {
      "image/png": "[encoded data removed]",
      "text/plain": [
       "<Figure size 640x480 with 1 Axes>"
      ]
     },
     "metadata": {},
     "output_type": "display_data"
    }
   ],
   "source": [
    "#It seems that this one has a problem\n",
    "\n",
    "x1s = np.linspace(-2,2,100)\n",
    "x2s = x1s**6 + 1 + onp.random.normal(size = 100)*1e-1\n",
    "x3s = (x1s + 2)**3 + onp.random.normal(size = 100)*1e-1\n",
    "X = np.array([x1s, x2s, x3s])\n",
    "kpca.build_graph(X, ks, gamma=1e-8, gamma2=1, gamma3=1, epsilon=1e-8, tau1=0.5, tau2=0.5, names=['x1', 'x2', 'x3'], noise_scale=1e-1, verbose=True, plot=True)"
   ]
  },
  {
   "cell_type": "code",
   "execution_count": null,
   "metadata": {
    "pycharm": {
     "is_executing": true
    }
   },
   "outputs": [],
   "source": []
  },
  {
   "cell_type": "code",
   "execution_count": null,
   "metadata": {},
   "outputs": [],
   "source": []
  }
 ],
 "metadata": {
  "kernelspec": {
   "display_name": "Python 3 (ipykernel)",
   "language": "python",
   "name": "python3"
  },
  "language_info": {
   "codemirror_mode": {
    "name": "ipython",
    "version": 3
   },
   "file_extension": ".py",
   "mimetype": "text/x-python",
   "name": "python",
   "nbconvert_exporter": "python",
   "pygments_lexer": "ipython3",
   "version": "3.9.7"
  }
 },
 "nbformat": 4,
 "nbformat_minor": 1
}
