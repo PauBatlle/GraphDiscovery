{
 "cells": [
  {
   "cell_type": "markdown",
   "source": [
    "# Summary\n",
    "Suppose that the graph has $d$ nodes and for each node, we $N$ observations. Denote by $x_s=(x_{s,1},\\dots, x_{s,d})$ the vector of the $s^{\\textit{th}}$ observation of all the nodes. All the vectors are assumed to be column vectors.\n",
    "\n",
    "\n",
    "1. Choose a tolerance $\\epsilon$, choose a kernel $\\kappa$. Each input of $\\kappa$ is $d$ dimensional.\n",
    "2. Formulate a gram matrix $K$ such that $K_{ij}=\\kappa(x_i, x_j)$. Thus, $K$ is a $N\\times N$ matrix.\n",
    "3. Compute the eigen-decomposition of $K$. Denote by the eigenvalues of $K$ by $(\\lambda_i)_{i=1}^N$ such that $\\lambda_1\\geq \\lambda_2 \\geq ... \\geq \\lambda_N$. Let the corresponding eigenvectors be $(\\alpha_i)_{i=1}^N$. Normalize $\\alpha_i$ such that $|\\alpha_i|^2=\\frac{1}{N\\lambda_i}$.\n",
    "4. Choose $r$ such that $r=\\min\\{n|\\lambda_{n+1}/\\lambda_1 \\leq \\epsilon\\}$.\n",
    "5. Let the RKHS associated with $\\kappa$ by $\\mathcal{H}$. Solve the minimization problem\n",
    "$$\n",
    "\\begin{align*}\n",
    "\\min_{f\\in \\mathcal{H}}& \\frac{1}{2}\\|f\\|_{\\mathcal{H}}^2+\\frac{1}{\\gamma}\\sum_{i=1}^r\\lambda_i\\bigg|\\sum_{s=1}^N\\alpha_{i, s}f(x_s)\\bigg|^2, \\\\\n",
    "\\text{s.t. }& [\\boldsymbol{\\phi}, f]=\\boldsymbol{y}.\n",
    "\\end{align*}\\qquad (1)\n",
    "$$\n",
    "6. Since $f=\\Psi v$, $f$ can be viewed as an implicit function of all the nodes. For the above minimization problem, we have the following representer formula:\n",
    "$$\n",
    "f(x)=\\kappa(x, \\boldsymbol{\\varphi})\\kappa(\\boldsymbol{\\varphi}, \\boldsymbol{\\varphi})^{-1}\\boldsymbol{z},\n",
    "$$\n",
    "where $\\boldsymbol{\\varphi}=[\\delta_{x_1},\\dots, \\delta_{x_N}, \\boldsymbol{\\phi}]$ and $\\boldsymbol{z}$ solves\n",
    "$$\n",
    "\\begin{align*}\n",
    "\\min_{\\boldsymbol{z}}&\\frac{1}{2}\\boldsymbol{z}^T\\kappa(\\boldsymbol{\\varphi}, \\boldsymbol{\\varphi})^{-1}\\boldsymbol{z}+\\frac{1}{\\gamma}\\sum_{i=1}^r\\lambda_i\\bigg|\\sum_{s=1}^N\\alpha_{i,s}z_s^{(1)}\\bigg|^2,\\\\\n",
    "\\text{s.t. }& z^{(2)}=\\boldsymbol{y}.\n",
    "\\end{align*} \\qquad (2)\n",
    "$$\n",
    "We note that $(2)$ can be solved explicitly.\n",
    "\n",
    "\n",
    "Alternatively, we can use the mode decomposition.Let $\\kappa = \\sum_{j=1}^k\\kappa_j$. Thus, $f\\in \\mathcal{H}$ can be expressed as $f=\\sum_{j=1}^kf_j$, where $f_j\\in \\mathcal{H}_j$ and $\\|f\\|_{\\mathcal{H}}^2=\\sum_{j=1}^k\\|f\\|_{\\mathcal{H}_j}^2$.\n",
    "\n",
    "For example, let $\\kappa(x, x')=1+x^Tx'+\\gamma_2\\sum_{ij}^dx_ix_jx'_ix'_j+\\gamma_3\\prod_{j}^d(1+\\kappa_j(x_j, x_j'))$. Then, $f$ has the following form\n",
    "$$\n",
    "f=\\beta_0 + \\sum_{i=1}^d\\beta_ix_i+\\sum_{i,j=1}^d\\beta_{ij}x_ix_j+f_3.\n",
    "$$\n",
    "Then,\n",
    "$$\n",
    "\\|f\\|_{\\mathcal{H}}^2=\\beta_0^2+\\sum_{i=1}^d\\beta_i^2+\\frac{1}{\\gamma_2}\\sum_{ij}\\beta_{ij}^2+\\frac{1}{\\gamma_3}\\|f_3\\|_{\\Gamma_3}^2.\n",
    "$$\n",
    "\n",
    "# Procedures\n",
    "1. Using the method discussed before (test the energy of other nodes against noise) to determine whether Node $i$ should be function of other nodes or not. If yes, we proceed to determine the ancestors of Node $i$.\n",
    "2. For each Node $i$, set the constraints in (1) such that Node $i$ is the function of other nodes and solve (1). Denote the loss by $l_i$.\n",
    "3. We determine the ancestors of $i$. We add extra constraints such that a potential ancestor Node $h$ is not an ancestor of Node $i$ and resolve (1). Denote by $l_{ih}$ the loss. If $l_{ih} - l_i < \\tau l_i$, where $\\tau$ is the tolerance, Node $h$ can be removed. Otherwise, Node $h$ can be kept. We continue to examine the next potential ancestor.\n",
    "\n",
    "# Minimization Problems\n",
    "\n",
    "## First-step Minimization Problem\n",
    "Thus, for the 1st step, we solve the following minimization problem\n",
    "$$\n",
    "\\begin{align*}\n",
    "\\min\\beta_0^2+\\sum_{j=1,j\\not=i}^d\\beta_j^2+\\frac{1}{\\gamma_2}\\sum_{jk,j\\not=i, k\\not=i}\\beta_{jk}^2+\\frac{1}{\\gamma_3}\\|f_3^{-i}\\|_{\\Gamma_3^{-i}}^2+\\frac{1}{\\gamma}\\sum_{t=1}^r\\lambda_t\\bigg|\\sum_{s=1}^N\\alpha_{t,s}\\big(\\beta_0+\\sum_{j=1,j\\not=i}\\beta_jx_j^s+x_i^s+\\sum_{jk,j\\not=i,k\\not=i}\\beta_{jk}x_j^sx_k^s+f_3^{-i}(x_s)\\big)\\bigg|^2,\n",
    "\\end{align*}\n",
    "$$\n",
    "which is equivalent to\n",
    "$$\n",
    "\\begin{align*}\n",
    "\\min\\beta_0^2+\\sum_{j=1,j\\not=i}^d\\beta_j^2+\\frac{1}{\\gamma_2}\\sum_{jk,j\\not=i, k\\not=i}\\beta_{jk}^2+\\frac{1}{\\gamma_3}\\boldsymbol{z}^T\\Gamma_{3,-i}^{-1}\\boldsymbol{z}+\\frac{1}{\\gamma}\\sum_{t=1}^r\\lambda_t\\bigg|\\sum_{s=1}^N\\alpha_{t,s}\\big(\\beta_0+\\sum_{j=1,j\\not=i}\\beta_jx_j^s+x_i^s+\\sum_{jk,j\\not=i,k\\not=i}\\beta_{jk}x_j^sx_k^s+z_s\\big)\\bigg|^2.\n",
    "\\end{align*} (3)\n",
    "$$\n",
    "\n",
    "## Second-step Minimization Problem\n",
    "For the 2nd step, we solve the following minimization problem\n",
    "$$\n",
    "\\begin{align*}\n",
    "\\min\\beta_0^2+\\sum_{j=1,j\\not=i,h}^d\\beta_j^2+\\frac{1}{\\gamma_2}\\sum_{jk,j\\not=i,h, k\\not=i,h}\\beta_{jk}^2+\\frac{1}{\\gamma_3}\\|f_3^{-i,-h}\\|_{\\Gamma_3^{-i,-h}}^2+\\frac{1}{\\gamma}\\sum_{t=1}^r\\lambda_t\\bigg|\\sum_{s=1}^N\\alpha_{t,s}\\big(\\beta_0+\\sum_{j=1,j\\not=i,h}\\beta_jx_j^s+x_i^s+\\sum_{jk,j\\not=i,h,k\\not=i,h}\\beta_{jk}x_j^sx_k^s+f_3^{-i,-h}(x_s)\\big)\\bigg|^2,\n",
    "\\end{align*}\n",
    "$$\n",
    "which is equivalent to\n",
    "$$\n",
    "\\begin{align*}\n",
    "\\min\\beta_0^2+\\sum_{j=1,j\\not=i,h}^d\\beta_j^2+\\frac{1}{\\gamma_2}\\sum_{jk,j\\not=i,h, k\\not=i,h}\\beta_{jk}^2+\\frac{1}{\\gamma_3}\\boldsymbol{z}^T\\Gamma_{3,-i,-h}^{-1}\\boldsymbol{z}+\\frac{1}{\\gamma}\\sum_{t=1}^r\\lambda_t\\bigg|\\sum_{s=1}^N\\alpha_{t,s}\\big(\\beta_0+\\sum_{j=1,j\\not=i,h}\\beta_jx_j^s+x_i^s+\\sum_{jk,j\\not=i,h,k\\not=i,h}\\beta_{jk}x_j^sx_k^s+z_s\\big)\\bigg|^2.\n",
    "\\end{align*} (4)\n",
    "$$\n",
    "\n",
    "Questions:\n",
    "1. If we do not add any constraints, the solution of (1) is $0$;\n",
    "2. Scipy.optimize.minimize does not solve (3) well;\n",
    "3. Now we use jax to compute the Hessian and the Jacobian of the optimization problem and solve the linear system. But the Hessian is ill-conditioned. We cannot solve the linear system correctly.\n"
   ],
   "metadata": {
    "collapsed": false
   }
  },
  {
   "cell_type": "code",
   "execution_count": 5,
   "outputs": [],
   "source": [
    "import jax\n",
    "import numpy as onp\n",
    "import jax.numpy as np\n",
    "from jax import jit, vmap\n",
    "import matplotlib.pyplot as plt\n",
    "from tqdm.notebook import tqdm as t\n",
    "from ipywidgets import interact\n",
    "from jax import grad\n",
    "from jax.scipy.optimize import minimize\n",
    "from jax.config import config\n",
    "config.update(\"jax_enable_x64\", True)\n",
    "from jax.scipy.linalg import cho_factor, cho_solve\n",
    "from functools import reduce\n",
    "#from jax.scipy.optimize import minimize\n",
    "#from jaxopt import ProjectedGradient\n",
    "#from jaxopt.projection import projection_box"
   ],
   "metadata": {
    "collapsed": false
   }
  },
  {
   "cell_type": "code",
   "execution_count": 6,
   "outputs": [],
   "source": [
    "x1s = np.linspace(-2, 2, 500)\n",
    "x2s = x1s**2 + 1 + onp.random.random(size = len(x1s))*1e-1"
   ],
   "metadata": {
    "collapsed": false
   }
  },
  {
   "cell_type": "code",
   "execution_count": 7,
   "outputs": [
    {
     "name": "stdout",
     "output_type": "stream",
     "text": [
      "Examining Node x0\n",
      "\t Node x0, E_Signal = 6.6315, E_Noise = 6676.2135\n",
      "\t Node x0 does not have any ancestors\n",
      " \n",
      "Examining Node x1\n",
      "\t Node x1, E_Signal = 28.8361, E_Noise = 5.6484\n",
      "\t Node x1 have ancestors\n",
      "Energy of Node x1 is 196382.30562996026\n"
     ]
    },
    {
     "ename": "TypeError",
     "evalue": "reduce() of empty sequence with no initial value",
     "output_type": "error",
     "traceback": [
      "\u001B[0;31m---------------------------------------------------------------------------\u001B[0m",
      "\u001B[0;31mTypeError\u001B[0m                                 Traceback (most recent call last)",
      "Cell \u001B[0;32mIn [7], line 8\u001B[0m\n\u001B[1;32m      5\u001B[0m kpca \u001B[38;5;241m=\u001B[39m KPCA()\n\u001B[1;32m      7\u001B[0m X \u001B[38;5;241m=\u001B[39m np\u001B[38;5;241m.\u001B[39marray([x1s, x2s])\n\u001B[0;32m----> 8\u001B[0m \u001B[43mkpca\u001B[49m\u001B[38;5;241;43m.\u001B[39;49m\u001B[43mbuild_graph\u001B[49m\u001B[43m(\u001B[49m\u001B[43mX\u001B[49m\u001B[43m,\u001B[49m\u001B[43m \u001B[49m\u001B[43mks\u001B[49m\u001B[43m,\u001B[49m\u001B[43m \u001B[49m\u001B[43mgamma\u001B[49m\u001B[38;5;241;43m=\u001B[39;49m\u001B[38;5;241;43m1e-10\u001B[39;49m\u001B[43m,\u001B[49m\u001B[43m \u001B[49m\u001B[43mgamma2\u001B[49m\u001B[38;5;241;43m=\u001B[39;49m\u001B[38;5;241;43m1\u001B[39;49m\u001B[43m,\u001B[49m\u001B[43m \u001B[49m\u001B[43mgamma3\u001B[49m\u001B[38;5;241;43m=\u001B[39;49m\u001B[38;5;241;43m1\u001B[39;49m\u001B[43m,\u001B[49m\u001B[43m \u001B[49m\u001B[43mepsilon\u001B[49m\u001B[38;5;241;43m=\u001B[39;49m\u001B[38;5;241;43m1e-10\u001B[39;49m\u001B[43m,\u001B[49m\u001B[43m \u001B[49m\u001B[43mtau1\u001B[49m\u001B[38;5;241;43m=\u001B[39;49m\u001B[38;5;241;43m0.5\u001B[39;49m\u001B[43m,\u001B[49m\u001B[43m \u001B[49m\u001B[43mtau2\u001B[49m\u001B[38;5;241;43m=\u001B[39;49m\u001B[38;5;241;43m0.5\u001B[39;49m\u001B[43m,\u001B[49m\u001B[43m \u001B[49m\u001B[43mnames\u001B[49m\u001B[38;5;241;43m=\u001B[39;49m\u001B[43m[\u001B[49m\u001B[38;5;124;43m'\u001B[39;49m\u001B[38;5;124;43mx0\u001B[39;49m\u001B[38;5;124;43m'\u001B[39;49m\u001B[43m,\u001B[49m\u001B[43m \u001B[49m\u001B[38;5;124;43m'\u001B[39;49m\u001B[38;5;124;43mx1\u001B[39;49m\u001B[38;5;124;43m'\u001B[39;49m\u001B[43m]\u001B[49m\u001B[43m,\u001B[49m\u001B[43m \u001B[49m\u001B[43mnoise_scale\u001B[49m\u001B[43m \u001B[49m\u001B[38;5;241;43m=\u001B[39;49m\u001B[43m \u001B[49m\u001B[38;5;241;43m0.1\u001B[39;49m\u001B[43m,\u001B[49m\u001B[43m \u001B[49m\u001B[43mverbose\u001B[49m\u001B[38;5;241;43m=\u001B[39;49m\u001B[38;5;28;43;01mTrue\u001B[39;49;00m\u001B[43m,\u001B[49m\u001B[43m \u001B[49m\u001B[43mplot\u001B[49m\u001B[38;5;241;43m=\u001B[39;49m\u001B[38;5;28;43;01mTrue\u001B[39;49;00m\u001B[43m)\u001B[49m\n",
      "File \u001B[0;32m~/Documents/github/GraphDiscovery/KPCA.py:305\u001B[0m, in \u001B[0;36mKPCA.build_graph\u001B[0;34m(self, X, ks, gamma, gamma2, gamma3, epsilon, tau1, tau2, noise_scale, nugget, names, verbose, plot)\u001B[0m\n\u001B[1;32m    303\u001B[0m other_nodes \u001B[38;5;241m=\u001B[39m np\u001B[38;5;241m.\u001B[39msetdiff1d(np\u001B[38;5;241m.\u001B[39marray(\u001B[38;5;28mrange\u001B[39m(d)), np\u001B[38;5;241m.\u001B[39marray([i, j]))\n\u001B[1;32m    304\u001B[0m other_Ms \u001B[38;5;241m=\u001B[39m [Ms[k] \u001B[38;5;28;01mfor\u001B[39;00m k \u001B[38;5;129;01min\u001B[39;00m other_nodes\u001B[38;5;241m.\u001B[39mtolist()]\n\u001B[0;32m--> 305\u001B[0m Gamma3mimj \u001B[38;5;241m=\u001B[39m \u001B[43mreduce\u001B[49m\u001B[43m(\u001B[49m\u001B[43mnp\u001B[49m\u001B[38;5;241;43m.\u001B[39;49m\u001B[43mmultiply\u001B[49m\u001B[43m,\u001B[49m\u001B[43m \u001B[49m\u001B[43mother_Ms\u001B[49m\u001B[43m)\u001B[49m \u001B[38;5;66;03m#Use multiplication instead of division below seems to be more stable\u001B[39;00m\n\u001B[1;32m    306\u001B[0m \u001B[38;5;66;03m#Gamma3mimj = np.divide(Gamma3mi, Ms[j])  # The gram matrix associated with the kernel without the ith kernel\u001B[39;00m\n\u001B[1;32m    307\u001B[0m L_Gamma3mimj \u001B[38;5;241m=\u001B[39m np\u001B[38;5;241m.\u001B[39mlinalg\u001B[38;5;241m.\u001B[39mcholesky(Gamma3mimj \u001B[38;5;241m+\u001B[39m nugget \u001B[38;5;241m*\u001B[39m np\u001B[38;5;241m.\u001B[39meye(\u001B[38;5;28mlen\u001B[39m(Gamma3mimj)))\n",
      "\u001B[0;31mTypeError\u001B[0m: reduce() of empty sequence with no initial value"
     ]
    }
   ],
   "source": [
    "from KPCA import *\n",
    "from kernels import matern_five_halfs as k\n",
    "\n",
    "ks = [k]*2\n",
    "kpca = KPCA()\n",
    "\n",
    "X = np.array([x1s, x2s])\n",
    "kpca.build_graph(X, ks, gamma=1e-10, gamma2=1, gamma3=1, epsilon=1e-10, tau1=0.5, tau2=0.5, names=['x0', 'x1'], noise_scale = 0.1, verbose=True, plot=True)"
   ],
   "metadata": {
    "collapsed": false
   }
  },
  {
   "cell_type": "code",
   "execution_count": 8,
   "outputs": [
    {
     "name": "stdout",
     "output_type": "stream",
     "text": [
      "Examining Node x0\n",
      "\t Node x0, E_Signal = 173.9514, E_Noise = 721.1214\n",
      "\t Node x0 does not have any ancestors\n",
      " \n",
      "Examining Node x1\n",
      "\t Node x1, E_Signal = 13.5927, E_Noise = 0.2352\n",
      "\t Node x1 have ancestors\n",
      "Energy of Node x1 is 731063539812816.5\n",
      "Energy of Node x1 after eliminating Node x0 is 1297.4722111490637\n",
      "The ratio is -0.9999999999982252\n"
     ]
    },
    {
     "ename": "AssertionError",
     "evalue": "",
     "output_type": "error",
     "traceback": [
      "\u001B[0;31m---------------------------------------------------------------------------\u001B[0m",
      "\u001B[0;31mAssertionError\u001B[0m                            Traceback (most recent call last)",
      "Cell \u001B[0;32mIn [8], line 8\u001B[0m\n\u001B[1;32m      5\u001B[0m x2s \u001B[38;5;241m=\u001B[39m x1s\u001B[38;5;241m*\u001B[39m\u001B[38;5;241m*\u001B[39m\u001B[38;5;241m2\u001B[39m \u001B[38;5;241m-\u001B[39m \u001B[38;5;241m1\u001B[39m \u001B[38;5;241m+\u001B[39m onp\u001B[38;5;241m.\u001B[39mrandom\u001B[38;5;241m.\u001B[39mrandom(size \u001B[38;5;241m=\u001B[39m \u001B[38;5;28mlen\u001B[39m(x0s))\u001B[38;5;241m*\u001B[39m\u001B[38;5;241m1e-1\u001B[39m\n\u001B[1;32m      7\u001B[0m X \u001B[38;5;241m=\u001B[39m np\u001B[38;5;241m.\u001B[39marray([x0s, x1s, x2s])\n\u001B[0;32m----> 8\u001B[0m \u001B[43mkpca\u001B[49m\u001B[38;5;241;43m.\u001B[39;49m\u001B[43mbuild_graph\u001B[49m\u001B[43m(\u001B[49m\u001B[43mX\u001B[49m\u001B[43m,\u001B[49m\u001B[43m \u001B[49m\u001B[43mks\u001B[49m\u001B[43m,\u001B[49m\u001B[43m \u001B[49m\u001B[43mgamma\u001B[49m\u001B[38;5;241;43m=\u001B[39;49m\u001B[38;5;241;43m1e-10\u001B[39;49m\u001B[43m,\u001B[49m\u001B[43m \u001B[49m\u001B[43mgamma2\u001B[49m\u001B[38;5;241;43m=\u001B[39;49m\u001B[38;5;241;43m1\u001B[39;49m\u001B[43m,\u001B[49m\u001B[43m \u001B[49m\u001B[43mgamma3\u001B[49m\u001B[38;5;241;43m=\u001B[39;49m\u001B[38;5;241;43m1\u001B[39;49m\u001B[43m,\u001B[49m\u001B[43m \u001B[49m\u001B[43mepsilon\u001B[49m\u001B[38;5;241;43m=\u001B[39;49m\u001B[38;5;241;43m1e-10\u001B[39;49m\u001B[43m,\u001B[49m\u001B[43m \u001B[49m\u001B[43mtau1\u001B[49m\u001B[38;5;241;43m=\u001B[39;49m\u001B[38;5;241;43m0.5\u001B[39;49m\u001B[43m,\u001B[49m\u001B[43m \u001B[49m\u001B[43mtau2\u001B[49m\u001B[38;5;241;43m=\u001B[39;49m\u001B[38;5;241;43m0.5\u001B[39;49m\u001B[43m,\u001B[49m\u001B[43m \u001B[49m\u001B[43mnames\u001B[49m\u001B[38;5;241;43m=\u001B[39;49m\u001B[43m[\u001B[49m\u001B[38;5;124;43m'\u001B[39;49m\u001B[38;5;124;43mx0\u001B[39;49m\u001B[38;5;124;43m'\u001B[39;49m\u001B[43m,\u001B[49m\u001B[43m \u001B[49m\u001B[38;5;124;43m'\u001B[39;49m\u001B[38;5;124;43mx1\u001B[39;49m\u001B[38;5;124;43m'\u001B[39;49m\u001B[43m,\u001B[49m\u001B[43m \u001B[49m\u001B[38;5;124;43m'\u001B[39;49m\u001B[38;5;124;43mx2\u001B[39;49m\u001B[38;5;124;43m'\u001B[39;49m\u001B[43m]\u001B[49m\u001B[43m,\u001B[49m\u001B[43m \u001B[49m\u001B[43mverbose\u001B[49m\u001B[38;5;241;43m=\u001B[39;49m\u001B[38;5;28;43;01mTrue\u001B[39;49;00m\u001B[43m,\u001B[49m\u001B[43m \u001B[49m\u001B[43mplot\u001B[49m\u001B[38;5;241;43m=\u001B[39;49m\u001B[38;5;28;43;01mTrue\u001B[39;49;00m\u001B[43m)\u001B[49m\n",
      "File \u001B[0;32m~/Documents/github/GraphDiscovery/KPCA.py:355\u001B[0m, in \u001B[0;36mKPCA.build_graph\u001B[0;34m(self, X, ks, gamma, gamma2, gamma3, epsilon, tau1, tau2, noise_scale, nugget, names, verbose, plot)\u001B[0m\n\u001B[1;32m    352\u001B[0m \u001B[38;5;28;01mif\u001B[39;00m verbose: \u001B[38;5;28mprint\u001B[39m(\u001B[38;5;124m\"\u001B[39m\u001B[38;5;124mEnergy of Node \u001B[39m\u001B[38;5;132;01m{}\u001B[39;00m\u001B[38;5;124m after eliminating Node \u001B[39m\u001B[38;5;132;01m{}\u001B[39;00m\u001B[38;5;124m is \u001B[39m\u001B[38;5;132;01m{}\u001B[39;00m\u001B[38;5;124m\"\u001B[39m\u001B[38;5;241m.\u001B[39mformat(names[i], names[j], loss_ij))\n\u001B[1;32m    353\u001B[0m \u001B[38;5;28;01mif\u001B[39;00m verbose: \u001B[38;5;28mprint\u001B[39m(\u001B[38;5;124m\"\u001B[39m\u001B[38;5;124mThe ratio is \u001B[39m\u001B[38;5;132;01m{}\u001B[39;00m\u001B[38;5;124m\"\u001B[39m\u001B[38;5;241m.\u001B[39mformat((loss_ij \u001B[38;5;241m-\u001B[39m loss_i)\u001B[38;5;241m/\u001B[39mloss_i))\n\u001B[0;32m--> 355\u001B[0m \u001B[38;5;28;01massert\u001B[39;00m(loss_ij \u001B[38;5;241m>\u001B[39m\u001B[38;5;241m=\u001B[39m loss_i) \u001B[38;5;66;03m# loss_ij should be larger than loss_i\u001B[39;00m\n\u001B[1;32m    357\u001B[0m \u001B[38;5;28;01mif\u001B[39;00m (loss_ij \u001B[38;5;241m-\u001B[39m loss_i) \u001B[38;5;241m<\u001B[39m tau2 \u001B[38;5;241m*\u001B[39m loss_i:\n\u001B[1;32m    358\u001B[0m     \u001B[38;5;66;03m#Increase in the loss is small. The jth node is not necessary an ancestor of the ith node\u001B[39;00m\n\u001B[1;32m    359\u001B[0m     G\u001B[38;5;241m.\u001B[39mremove_edge(j, i)\n",
      "\u001B[0;31mAssertionError\u001B[0m: "
     ]
    }
   ],
   "source": [
    "#What we expect to recover is X1-> X2 -> X3\n",
    "ks = [k]*3\n",
    "x0s = np.linspace(-2, 2, 100)\n",
    "x1s = x0s**2 + 1 + onp.random.random(size = len(x0s))*1e-1\n",
    "x2s = x1s**2 - 1 + onp.random.random(size = len(x0s))*1e-1\n",
    "\n",
    "X = np.array([x0s, x1s, x2s])\n",
    "kpca.build_graph(X, ks, gamma=1e-10, gamma2=1, gamma3=1, epsilon=1e-10, tau1=0.5, tau2=0.5, names=['x0', 'x1', 'x2'], verbose=True, plot=True)"
   ],
   "metadata": {
    "collapsed": false
   }
  },
  {
   "cell_type": "code",
   "execution_count": 9,
   "outputs": [
    {
     "name": "stdout",
     "output_type": "stream",
     "text": [
      "Examining Node x1\n",
      "\t Node x1, E_Signal = 39.1059, E_Noise = 373.3893\n",
      "\t Node x1 does not have any ancestors\n",
      " \n",
      "Examining Node x2\n",
      "\t Node x2, E_Signal = 4.5499, E_Noise = 12.1045\n",
      "\t Node x2 does not have any ancestors\n",
      " \n",
      "Examining Node x3\n",
      "\t Node x3, E_Signal = 32.9676, E_Noise = 13.3978\n",
      "\t Node x3 have ancestors\n",
      "Energy of Node x3 is 2786.9380724692746\n",
      "Energy of Node x3 after eliminating Node x1 is 582448992.8278375\n",
      "The ratio is 208991.44177025353\n",
      "Energy of Node x3 after eliminating Node x2 is 7509061.4015073795\n",
      "The ratio is 2693.3768416261305\n",
      " \n"
     ]
    },
    {
     "data": {
      "text/plain": "<networkx.classes.digraph.DiGraph at 0x2901cf580>"
     },
     "execution_count": 9,
     "metadata": {},
     "output_type": "execute_result"
    },
    {
     "data": {
      "text/plain": "<Figure size 640x480 with 1 Axes>",
      "image/png": "[encoded data removed]"
     },
     "metadata": {},
     "output_type": "display_data"
    }
   ],
   "source": [
    "x0s = np.linspace(-2, 2, 100)\n",
    "onp.random.seed(0)\n",
    "x1s = onp.random.random(100)\n",
    "x2s = (x0s + x1s)**2 + onp.random.normal(size = len(x1s))*1e-1\n",
    "X = np.array([x0s, x1s, x2s])\n",
    "\n",
    "kpca.build_graph(X, ks, gamma=1e-8, gamma2=1, gamma3=1, epsilon=1e-8, tau1=0.5, tau2=0.5, names=['x1', 'x2', 'x3'], noise_scale=1e-1, verbose=True, plot=True)"
   ],
   "metadata": {
    "collapsed": false
   }
  },
  {
   "cell_type": "code",
   "execution_count": 10,
   "outputs": [
    {
     "name": "stdout",
     "output_type": "stream",
     "text": [
      "Examining Node x1\n",
      "\t Node x1, E_Signal = 13.0228, E_Noise = 0.4730\n",
      "\t Node x1 have ancestors\n",
      "Energy of Node x1 is 3.005700609102397e+21\n",
      "Energy of Node x1 after eliminating Node x2 is 11532.53580389018\n",
      "The ratio is -1.0\n"
     ]
    },
    {
     "ename": "AssertionError",
     "evalue": "",
     "output_type": "error",
     "traceback": [
      "\u001B[0;31m---------------------------------------------------------------------------\u001B[0m",
      "\u001B[0;31mAssertionError\u001B[0m                            Traceback (most recent call last)",
      "Cell \u001B[0;32mIn [10], line 7\u001B[0m\n\u001B[1;32m      5\u001B[0m x3s \u001B[38;5;241m=\u001B[39m (x1s \u001B[38;5;241m+\u001B[39m \u001B[38;5;241m2\u001B[39m)\u001B[38;5;241m*\u001B[39m\u001B[38;5;241m*\u001B[39m\u001B[38;5;241m3\u001B[39m \u001B[38;5;241m+\u001B[39m onp\u001B[38;5;241m.\u001B[39mrandom\u001B[38;5;241m.\u001B[39mnormal(size \u001B[38;5;241m=\u001B[39m \u001B[38;5;241m100\u001B[39m)\u001B[38;5;241m*\u001B[39m\u001B[38;5;241m1e-1\u001B[39m\n\u001B[1;32m      6\u001B[0m X \u001B[38;5;241m=\u001B[39m np\u001B[38;5;241m.\u001B[39marray([x1s, x2s, x3s])\n\u001B[0;32m----> 7\u001B[0m \u001B[43mkpca\u001B[49m\u001B[38;5;241;43m.\u001B[39;49m\u001B[43mbuild_graph\u001B[49m\u001B[43m(\u001B[49m\u001B[43mX\u001B[49m\u001B[43m,\u001B[49m\u001B[43m \u001B[49m\u001B[43mks\u001B[49m\u001B[43m,\u001B[49m\u001B[43m \u001B[49m\u001B[43mgamma\u001B[49m\u001B[38;5;241;43m=\u001B[39;49m\u001B[38;5;241;43m1e-8\u001B[39;49m\u001B[43m,\u001B[49m\u001B[43m \u001B[49m\u001B[43mgamma2\u001B[49m\u001B[38;5;241;43m=\u001B[39;49m\u001B[38;5;241;43m1\u001B[39;49m\u001B[43m,\u001B[49m\u001B[43m \u001B[49m\u001B[43mgamma3\u001B[49m\u001B[38;5;241;43m=\u001B[39;49m\u001B[38;5;241;43m1\u001B[39;49m\u001B[43m,\u001B[49m\u001B[43m \u001B[49m\u001B[43mepsilon\u001B[49m\u001B[38;5;241;43m=\u001B[39;49m\u001B[38;5;241;43m1e-8\u001B[39;49m\u001B[43m,\u001B[49m\u001B[43m \u001B[49m\u001B[43mtau1\u001B[49m\u001B[38;5;241;43m=\u001B[39;49m\u001B[38;5;241;43m0.5\u001B[39;49m\u001B[43m,\u001B[49m\u001B[43m \u001B[49m\u001B[43mtau2\u001B[49m\u001B[38;5;241;43m=\u001B[39;49m\u001B[38;5;241;43m0.5\u001B[39;49m\u001B[43m,\u001B[49m\u001B[43m \u001B[49m\u001B[43mnames\u001B[49m\u001B[38;5;241;43m=\u001B[39;49m\u001B[43m[\u001B[49m\u001B[38;5;124;43m'\u001B[39;49m\u001B[38;5;124;43mx1\u001B[39;49m\u001B[38;5;124;43m'\u001B[39;49m\u001B[43m,\u001B[49m\u001B[43m \u001B[49m\u001B[38;5;124;43m'\u001B[39;49m\u001B[38;5;124;43mx2\u001B[39;49m\u001B[38;5;124;43m'\u001B[39;49m\u001B[43m,\u001B[49m\u001B[43m \u001B[49m\u001B[38;5;124;43m'\u001B[39;49m\u001B[38;5;124;43mx3\u001B[39;49m\u001B[38;5;124;43m'\u001B[39;49m\u001B[43m]\u001B[49m\u001B[43m,\u001B[49m\u001B[43m \u001B[49m\u001B[43mnoise_scale\u001B[49m\u001B[38;5;241;43m=\u001B[39;49m\u001B[38;5;241;43m1e-1\u001B[39;49m\u001B[43m,\u001B[49m\u001B[43m \u001B[49m\u001B[43mverbose\u001B[49m\u001B[38;5;241;43m=\u001B[39;49m\u001B[38;5;28;43;01mTrue\u001B[39;49;00m\u001B[43m,\u001B[49m\u001B[43m \u001B[49m\u001B[43mplot\u001B[49m\u001B[38;5;241;43m=\u001B[39;49m\u001B[38;5;28;43;01mTrue\u001B[39;49;00m\u001B[43m)\u001B[49m\n",
      "File \u001B[0;32m~/Documents/github/GraphDiscovery/KPCA.py:355\u001B[0m, in \u001B[0;36mKPCA.build_graph\u001B[0;34m(self, X, ks, gamma, gamma2, gamma3, epsilon, tau1, tau2, noise_scale, nugget, names, verbose, plot)\u001B[0m\n\u001B[1;32m    352\u001B[0m \u001B[38;5;28;01mif\u001B[39;00m verbose: \u001B[38;5;28mprint\u001B[39m(\u001B[38;5;124m\"\u001B[39m\u001B[38;5;124mEnergy of Node \u001B[39m\u001B[38;5;132;01m{}\u001B[39;00m\u001B[38;5;124m after eliminating Node \u001B[39m\u001B[38;5;132;01m{}\u001B[39;00m\u001B[38;5;124m is \u001B[39m\u001B[38;5;132;01m{}\u001B[39;00m\u001B[38;5;124m\"\u001B[39m\u001B[38;5;241m.\u001B[39mformat(names[i], names[j], loss_ij))\n\u001B[1;32m    353\u001B[0m \u001B[38;5;28;01mif\u001B[39;00m verbose: \u001B[38;5;28mprint\u001B[39m(\u001B[38;5;124m\"\u001B[39m\u001B[38;5;124mThe ratio is \u001B[39m\u001B[38;5;132;01m{}\u001B[39;00m\u001B[38;5;124m\"\u001B[39m\u001B[38;5;241m.\u001B[39mformat((loss_ij \u001B[38;5;241m-\u001B[39m loss_i)\u001B[38;5;241m/\u001B[39mloss_i))\n\u001B[0;32m--> 355\u001B[0m \u001B[38;5;28;01massert\u001B[39;00m(loss_ij \u001B[38;5;241m>\u001B[39m\u001B[38;5;241m=\u001B[39m loss_i) \u001B[38;5;66;03m# loss_ij should be larger than loss_i\u001B[39;00m\n\u001B[1;32m    357\u001B[0m \u001B[38;5;28;01mif\u001B[39;00m (loss_ij \u001B[38;5;241m-\u001B[39m loss_i) \u001B[38;5;241m<\u001B[39m tau2 \u001B[38;5;241m*\u001B[39m loss_i:\n\u001B[1;32m    358\u001B[0m     \u001B[38;5;66;03m#Increase in the loss is small. The jth node is not necessary an ancestor of the ith node\u001B[39;00m\n\u001B[1;32m    359\u001B[0m     G\u001B[38;5;241m.\u001B[39mremove_edge(j, i)\n",
      "\u001B[0;31mAssertionError\u001B[0m: "
     ]
    }
   ],
   "source": [
    "#It seems that this one has a problem\n",
    "\n",
    "x1s = np.linspace(-2,2,100)\n",
    "x2s = x1s**6 + 1 + onp.random.normal(size = 100)*1e-1\n",
    "x3s = (x1s + 2)**3 + onp.random.normal(size = 100)*1e-1\n",
    "X = np.array([x1s, x2s, x3s])\n",
    "kpca.build_graph(X, ks, gamma=1e-8, gamma2=1, gamma3=1, epsilon=1e-8, tau1=0.5, tau2=0.5, names=['x1', 'x2', 'x3'], noise_scale=1e-1, verbose=True, plot=True)"
   ],
   "metadata": {
    "collapsed": false
   }
  },
  {
   "cell_type": "code",
   "execution_count": null,
   "outputs": [],
   "source": [],
   "metadata": {
    "collapsed": false
   }
  }
 ],
 "metadata": {
  "kernelspec": {
   "display_name": "Python 3",
   "language": "python",
   "name": "python3"
  },
  "language_info": {
   "codemirror_mode": {
    "name": "ipython",
    "version": 2
   },
   "file_extension": ".py",
   "mimetype": "text/x-python",
   "name": "python",
   "nbconvert_exporter": "python",
   "pygments_lexer": "ipython2",
   "version": "2.7.6"
  }
 },
 "nbformat": 4,
 "nbformat_minor": 0
}
