{
 "cells": [
  {
   "cell_type": "code",
   "execution_count": 1,
   "metadata": {},
   "outputs": [],
   "source": [
    "text='''inspecting $\\ddot{X}_{7}$\n",
    "linear kernel (using gamma=1.00e-01)\n",
    " n/(n+s)=0.87, Z=-21.67\n",
    "decision : refused\n",
    "quadratic kernel (using gamma=1.00e-02)\n",
    " n/(n+s)=0.87, Z=-10.39\n",
    "decision : refused\n",
    "gaussian kernel (using gamma=1.76e-02)\n",
    " n/(n+s)=0.00, Z=-1.73\n",
    "decision : accepted\n",
    "$\\ddot{X}_{7}$ has ancestors with gaussian kernel (n/(s+n)=0.00)\n",
    "ancestors : ['$X_{0}$', '$X_{1}$', '$X_{2}$', '$X_{3}$', '$X_{4}$', '$X_{5}$', '$X_{6}$', '$X_{7}$', '$X_{8}$', '$X_{9}$', '$\\\\dot{X}_{1}$', '$\\\\dot{X}_{2}$', '$\\\\dot{X}_{3}$', '$\\\\dot{X}_{4}$', '$\\\\dot{X}_{5}$', '$\\\\dot{X}_{6}$', '$\\\\dot{X}_{7}$', '$\\\\dot{X}_{8}$', '$\\\\dot{X}_{9}$', '$\\\\ddot{X}_{0}$', '$\\\\ddot{X}_{1}$', '$\\\\ddot{X}_{2}$', '$\\\\ddot{X}_{3}$', '$\\\\ddot{X}_{4}$', '$\\\\ddot{X}_{5}$', '$\\\\ddot{X}_{6}$', '$\\\\ddot{X}_{8}$', '$\\\\ddot{X}_{9}$']\n",
    " n/(n+s)=0.00, Z=-1.73\n",
    "decision : accepted\n",
    "ancestors : ['$X_{0}$', '$X_{1}$', '$X_{2}$', '$X_{3}$', '$X_{4}$', '$X_{5}$', '$X_{6}$', '$X_{7}$', '$X_{8}$', '$X_{9}$', '$\\\\dot{X}_{2}$', '$\\\\dot{X}_{3}$', '$\\\\dot{X}_{4}$', '$\\\\dot{X}_{5}$', '$\\\\dot{X}_{6}$', '$\\\\dot{X}_{7}$', '$\\\\dot{X}_{8}$', '$\\\\dot{X}_{9}$', '$\\\\ddot{X}_{0}$', '$\\\\ddot{X}_{1}$', '$\\\\ddot{X}_{2}$', '$\\\\ddot{X}_{3}$', '$\\\\ddot{X}_{4}$', '$\\\\ddot{X}_{5}$', '$\\\\ddot{X}_{6}$', '$\\\\ddot{X}_{8}$', '$\\\\ddot{X}_{9}$']\n",
    " n/(n+s)=0.00, Z=-1.73\n",
    "decision : accepted\n",
    "ancestors : ['$X_{0}$', '$X_{1}$', '$X_{2}$', '$X_{3}$', '$X_{4}$', '$X_{5}$', '$X_{6}$', '$X_{7}$', '$X_{8}$', '$X_{9}$', '$\\\\dot{X}_{2}$', '$\\\\dot{X}_{4}$', '$\\\\dot{X}_{5}$', '$\\\\dot{X}_{6}$', '$\\\\dot{X}_{7}$', '$\\\\dot{X}_{8}$', '$\\\\dot{X}_{9}$', '$\\\\ddot{X}_{0}$', '$\\\\ddot{X}_{1}$', '$\\\\ddot{X}_{2}$', '$\\\\ddot{X}_{3}$', '$\\\\ddot{X}_{4}$', '$\\\\ddot{X}_{5}$', '$\\\\ddot{X}_{6}$', '$\\\\ddot{X}_{8}$', '$\\\\ddot{X}_{9}$']\n",
    " n/(n+s)=0.00, Z=-1.73\n",
    "decision : accepted\n",
    "ancestors : ['$X_{0}$', '$X_{1}$', '$X_{2}$', '$X_{3}$', '$X_{4}$', '$X_{5}$', '$X_{6}$', '$X_{7}$', '$X_{8}$', '$X_{9}$', '$\\\\dot{X}_{2}$', '$\\\\dot{X}_{5}$', '$\\\\dot{X}_{6}$', '$\\\\dot{X}_{7}$', '$\\\\dot{X}_{8}$', '$\\\\dot{X}_{9}$', '$\\\\ddot{X}_{0}$', '$\\\\ddot{X}_{1}$', '$\\\\ddot{X}_{2}$', '$\\\\ddot{X}_{3}$', '$\\\\ddot{X}_{4}$', '$\\\\ddot{X}_{5}$', '$\\\\ddot{X}_{6}$', '$\\\\ddot{X}_{8}$', '$\\\\ddot{X}_{9}$']\n",
    " n/(n+s)=0.00, Z=-1.73\n",
    "decision : accepted\n",
    "ancestors : ['$X_{0}$', '$X_{1}$', '$X_{2}$', '$X_{3}$', '$X_{4}$', '$X_{5}$', '$X_{6}$', '$X_{7}$', '$X_{8}$', '$X_{9}$', '$\\\\dot{X}_{2}$', '$\\\\dot{X}_{6}$', '$\\\\dot{X}_{7}$', '$\\\\dot{X}_{8}$', '$\\\\dot{X}_{9}$', '$\\\\ddot{X}_{0}$', '$\\\\ddot{X}_{1}$', '$\\\\ddot{X}_{2}$', '$\\\\ddot{X}_{3}$', '$\\\\ddot{X}_{4}$', '$\\\\ddot{X}_{5}$', '$\\\\ddot{X}_{6}$', '$\\\\ddot{X}_{8}$', '$\\\\ddot{X}_{9}$']\n",
    " n/(n+s)=0.00, Z=-1.73\n",
    "decision : accepted\n",
    "ancestors : ['$X_{0}$', '$X_{1}$', '$X_{2}$', '$X_{3}$', '$X_{4}$', '$X_{5}$', '$X_{6}$', '$X_{7}$', '$X_{8}$', '$X_{9}$', '$\\\\dot{X}_{6}$', '$\\\\dot{X}_{7}$', '$\\\\dot{X}_{8}$', '$\\\\dot{X}_{9}$', '$\\\\ddot{X}_{0}$', '$\\\\ddot{X}_{1}$', '$\\\\ddot{X}_{2}$', '$\\\\ddot{X}_{3}$', '$\\\\ddot{X}_{4}$', '$\\\\ddot{X}_{5}$', '$\\\\ddot{X}_{6}$', '$\\\\ddot{X}_{8}$', '$\\\\ddot{X}_{9}$']\n",
    " n/(n+s)=0.00, Z=-1.73\n",
    "decision : accepted\n",
    "ancestors : ['$X_{0}$', '$X_{1}$', '$X_{2}$', '$X_{3}$', '$X_{4}$', '$X_{5}$', '$X_{6}$', '$X_{7}$', '$X_{8}$', '$X_{9}$', '$\\\\dot{X}_{6}$', '$\\\\dot{X}_{7}$', '$\\\\dot{X}_{8}$', '$\\\\ddot{X}_{0}$', '$\\\\ddot{X}_{1}$', '$\\\\ddot{X}_{2}$', '$\\\\ddot{X}_{3}$', '$\\\\ddot{X}_{4}$', '$\\\\ddot{X}_{5}$', '$\\\\ddot{X}_{6}$', '$\\\\ddot{X}_{8}$', '$\\\\ddot{X}_{9}$']\n",
    " n/(n+s)=0.00, Z=-1.73\n",
    "decision : accepted\n",
    "ancestors : ['$X_{0}$', '$X_{1}$', '$X_{2}$', '$X_{3}$', '$X_{4}$', '$X_{5}$', '$X_{6}$', '$X_{7}$', '$X_{8}$', '$X_{9}$', '$\\\\dot{X}_{6}$', '$\\\\dot{X}_{7}$', '$\\\\ddot{X}_{0}$', '$\\\\ddot{X}_{1}$', '$\\\\ddot{X}_{2}$', '$\\\\ddot{X}_{3}$', '$\\\\ddot{X}_{4}$', '$\\\\ddot{X}_{5}$', '$\\\\ddot{X}_{6}$', '$\\\\ddot{X}_{8}$', '$\\\\ddot{X}_{9}$']\n",
    " n/(n+s)=0.00, Z=-1.73\n",
    "decision : accepted\n",
    "ancestors : ['$X_{0}$', '$X_{1}$', '$X_{2}$', '$X_{3}$', '$X_{4}$', '$X_{5}$', '$X_{6}$', '$X_{7}$', '$X_{8}$', '$X_{9}$', '$\\\\dot{X}_{7}$', '$\\\\ddot{X}_{0}$', '$\\\\ddot{X}_{1}$', '$\\\\ddot{X}_{2}$', '$\\\\ddot{X}_{3}$', '$\\\\ddot{X}_{4}$', '$\\\\ddot{X}_{5}$', '$\\\\ddot{X}_{6}$', '$\\\\ddot{X}_{8}$', '$\\\\ddot{X}_{9}$']\n",
    " n/(n+s)=0.00, Z=-1.73\n",
    "decision : accepted\n",
    "ancestors : ['$X_{0}$', '$X_{1}$', '$X_{2}$', '$X_{4}$', '$X_{5}$', '$X_{6}$', '$X_{7}$', '$X_{8}$', '$X_{9}$', '$\\\\dot{X}_{7}$', '$\\\\ddot{X}_{0}$', '$\\\\ddot{X}_{1}$', '$\\\\ddot{X}_{2}$', '$\\\\ddot{X}_{3}$', '$\\\\ddot{X}_{4}$', '$\\\\ddot{X}_{5}$', '$\\\\ddot{X}_{6}$', '$\\\\ddot{X}_{8}$', '$\\\\ddot{X}_{9}$']\n",
    " n/(n+s)=0.00, Z=-1.73\n",
    "decision : accepted\n",
    "ancestors : ['$X_{0}$', '$X_{2}$', '$X_{4}$', '$X_{5}$', '$X_{6}$', '$X_{7}$', '$X_{8}$', '$X_{9}$', '$\\\\dot{X}_{7}$', '$\\\\ddot{X}_{0}$', '$\\\\ddot{X}_{1}$', '$\\\\ddot{X}_{2}$', '$\\\\ddot{X}_{3}$', '$\\\\ddot{X}_{4}$', '$\\\\ddot{X}_{5}$', '$\\\\ddot{X}_{6}$', '$\\\\ddot{X}_{8}$', '$\\\\ddot{X}_{9}$']\n",
    " n/(n+s)=0.00, Z=-1.73\n",
    "decision : accepted\n",
    "ancestors : ['$X_{0}$', '$X_{2}$', '$X_{4}$', '$X_{5}$', '$X_{6}$', '$X_{7}$', '$X_{8}$', '$X_{9}$', '$\\\\dot{X}_{7}$', '$\\\\ddot{X}_{0}$', '$\\\\ddot{X}_{1}$', '$\\\\ddot{X}_{2}$', '$\\\\ddot{X}_{4}$', '$\\\\ddot{X}_{5}$', '$\\\\ddot{X}_{6}$', '$\\\\ddot{X}_{8}$', '$\\\\ddot{X}_{9}$']\n",
    " n/(n+s)=0.00, Z=-1.73\n",
    "decision : accepted\n",
    "ancestors : ['$X_{0}$', '$X_{2}$', '$X_{4}$', '$X_{5}$', '$X_{6}$', '$X_{7}$', '$X_{8}$', '$X_{9}$', '$\\\\dot{X}_{7}$', '$\\\\ddot{X}_{0}$', '$\\\\ddot{X}_{1}$', '$\\\\ddot{X}_{4}$', '$\\\\ddot{X}_{5}$', '$\\\\ddot{X}_{6}$', '$\\\\ddot{X}_{8}$', '$\\\\ddot{X}_{9}$']\n",
    " n/(n+s)=0.00, Z=-1.74\n",
    "decision : accepted\n",
    "ancestors : ['$X_{0}$', '$X_{4}$', '$X_{5}$', '$X_{6}$', '$X_{7}$', '$X_{8}$', '$X_{9}$', '$\\\\dot{X}_{7}$', '$\\\\ddot{X}_{0}$', '$\\\\ddot{X}_{1}$', '$\\\\ddot{X}_{4}$', '$\\\\ddot{X}_{5}$', '$\\\\ddot{X}_{6}$', '$\\\\ddot{X}_{8}$', '$\\\\ddot{X}_{9}$']\n",
    " n/(n+s)=0.00, Z=-1.75\n",
    "decision : accepted\n",
    "ancestors : ['$X_{0}$', '$X_{5}$', '$X_{6}$', '$X_{7}$', '$X_{8}$', '$X_{9}$', '$\\\\dot{X}_{7}$', '$\\\\ddot{X}_{0}$', '$\\\\ddot{X}_{1}$', '$\\\\ddot{X}_{4}$', '$\\\\ddot{X}_{5}$', '$\\\\ddot{X}_{6}$', '$\\\\ddot{X}_{8}$', '$\\\\ddot{X}_{9}$']\n",
    " n/(n+s)=0.00, Z=-1.81\n",
    "decision : accepted\n",
    "ancestors : ['$X_{0}$', '$X_{5}$', '$X_{6}$', '$X_{7}$', '$X_{8}$', '$X_{9}$', '$\\\\dot{X}_{7}$', '$\\\\ddot{X}_{0}$', '$\\\\ddot{X}_{1}$', '$\\\\ddot{X}_{5}$', '$\\\\ddot{X}_{6}$', '$\\\\ddot{X}_{8}$', '$\\\\ddot{X}_{9}$']\n",
    " n/(n+s)=0.00, Z=-1.97\n",
    "decision : accepted\n",
    "ancestors : ['$X_{0}$', '$X_{5}$', '$X_{6}$', '$X_{7}$', '$X_{8}$', '$X_{9}$', '$\\\\dot{X}_{7}$', '$\\\\ddot{X}_{0}$', '$\\\\ddot{X}_{5}$', '$\\\\ddot{X}_{6}$', '$\\\\ddot{X}_{8}$', '$\\\\ddot{X}_{9}$']\n",
    " n/(n+s)=0.00, Z=-2.47\n",
    "decision : accepted\n",
    "ancestors : ['$X_{0}$', '$X_{5}$', '$X_{6}$', '$X_{7}$', '$X_{8}$', '$X_{9}$', '$\\\\dot{X}_{7}$', '$\\\\ddot{X}_{5}$', '$\\\\ddot{X}_{6}$', '$\\\\ddot{X}_{8}$', '$\\\\ddot{X}_{9}$']\n",
    " n/(n+s)=0.01, Z=-3.95\n",
    "decision : accepted\n",
    "ancestors : ['$X_{5}$', '$X_{6}$', '$X_{7}$', '$X_{8}$', '$X_{9}$', '$\\\\dot{X}_{7}$', '$\\\\ddot{X}_{5}$', '$\\\\ddot{X}_{6}$', '$\\\\ddot{X}_{8}$', '$\\\\ddot{X}_{9}$']\n",
    " n/(n+s)=0.02, Z=-8.88\n",
    "decision : accepted\n",
    "ancestors : ['$X_{5}$', '$X_{6}$', '$X_{7}$', '$X_{8}$', '$X_{9}$', '$\\\\ddot{X}_{5}$', '$\\\\ddot{X}_{6}$', '$\\\\ddot{X}_{8}$', '$\\\\ddot{X}_{9}$']\n",
    " n/(n+s)=0.05, Z=-13.57\n",
    "decision : accepted\n",
    "ancestors : ['$X_{5}$', '$X_{6}$', '$X_{7}$', '$X_{8}$', '$X_{9}$', '$\\\\ddot{X}_{6}$', '$\\\\ddot{X}_{8}$', '$\\\\ddot{X}_{9}$']\n",
    " n/(n+s)=0.10, Z=-16.29\n",
    "decision : accepted\n",
    "ancestors : ['$X_{5}$', '$X_{6}$', '$X_{7}$', '$X_{8}$', '$X_{9}$', '$\\\\ddot{X}_{6}$', '$\\\\ddot{X}_{8}$']\n",
    " n/(n+s)=0.16, Z=-17.84\n",
    "decision : accepted\n",
    "ancestors : ['$X_{5}$', '$X_{6}$', '$X_{7}$', '$X_{8}$', '$\\\\ddot{X}_{6}$', '$\\\\ddot{X}_{8}$']\n",
    " n/(n+s)=0.26, Z=-19.66\n",
    "decision : accepted\n",
    "ancestors : ['$X_{6}$', '$X_{7}$', '$X_{8}$', '$\\\\ddot{X}_{6}$', '$\\\\ddot{X}_{8}$']\n",
    " n/(n+s)=0.38, Z=-20.76\n",
    "decision : accepted\n",
    "ancestors : ['$X_{6}$', '$X_{7}$', '$X_{8}$', '$\\\\ddot{X}_{6}$']\n",
    " n/(n+s)=0.48, Z=-21.35\n",
    "decision : accepted\n",
    "ancestors : ['$X_{6}$', '$X_{7}$', '$X_{8}$']\n",
    " n/(n+s)=0.61, Z=-21.69\n",
    "decision : accepted\n",
    "ancestors : ['$X_{6}$', '$X_{7}$']\n",
    " n/(n+s)=0.99, Z=-4.39\n",
    "decision : refused\n",
    "ancestors after pruning:  ['$X_{6}$', '$X_{7}$', '$X_{8}$'] '''"
   ]
  },
  {
   "cell_type": "code",
   "execution_count": 2,
   "metadata": {},
   "outputs": [
    {
     "data": {
      "text/plain": [
       "[0.0,\n",
       " 0.0,\n",
       " 0.0,\n",
       " 0.0,\n",
       " 0.0,\n",
       " 0.0,\n",
       " 0.0,\n",
       " 0.0,\n",
       " 0.0,\n",
       " 0.0,\n",
       " 0.0,\n",
       " 0.0,\n",
       " 0.0,\n",
       " 0.0,\n",
       " 0.0,\n",
       " 0.0,\n",
       " 0.0,\n",
       " 0.0,\n",
       " 0.01,\n",
       " 0.02,\n",
       " 0.05,\n",
       " 0.1,\n",
       " 0.16,\n",
       " 0.26,\n",
       " 0.38,\n",
       " 0.48,\n",
       " 0.61,\n",
       " 0.99]"
      ]
     },
     "execution_count": 2,
     "metadata": {},
     "output_type": "execute_result"
    }
   ],
   "source": [
    "noises = [float(part[:4]) for part in text.split('n/(n+s)=')[1:]][2:]\n",
    "noises"
   ]
  },
  {
   "cell_type": "code",
   "execution_count": 3,
   "metadata": {},
   "outputs": [
    {
     "data": {
      "text/plain": [
       "Text(0, 0.5, 'Increase in noise to signal ratio')"
      ]
     },
     "execution_count": 3,
     "metadata": {},
     "output_type": "execute_result"
    },
    {
     "data": {
      "image/png": "[encoded data removed]",
      "text/plain": [
       "<Figure size 640x480 with 1 Axes>"
      ]
     },
     "metadata": {},
     "output_type": "display_data"
    }
   ],
   "source": [
    "import matplotlib.pyplot as plt\n",
    "\n",
    "plt.scatter(range(30,3,-1),[n2-n1 for n1,n2 in zip(noises[:-1],noises[1:])])\n",
    "plt.gca().invert_xaxis()\n",
    "plt.xlabel('Number of ancestor')\n",
    "plt.ylabel('Increase in noise to signal ratio')"
   ]
  },
  {
   "cell_type": "code",
   "execution_count": null,
   "metadata": {},
   "outputs": [],
   "source": []
  }
 ],
 "metadata": {
  "kernelspec": {
   "display_name": "Python 3",
   "language": "python",
   "name": "python3"
  },
  "language_info": {
   "codemirror_mode": {
    "name": "ipython",
    "version": 3
   },
   "file_extension": ".py",
   "mimetype": "text/x-python",
   "name": "python",
   "nbconvert_exporter": "python",
   "pygments_lexer": "ipython3",
   "version": "3.10.7"
  },
  "orig_nbformat": 4
 },
 "nbformat": 4,
 "nbformat_minor": 2
}
