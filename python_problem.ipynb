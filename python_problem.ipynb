{
 "cells": [
  {
   "cell_type": "markdown",
   "source": [
    "#   Python seems to have numerical problem dealing with large numbers and highly ill-conditioned linear systems\n",
    "#   The following code is an example\n",
    "#   Given $x$, define a function $f(B) = |x^TBx|^2 \\sum_{i=1}^2\\lambda^2_i$.\n",
    "#   We use jax to compute the Hessian of $f$ w.r.t. $B$.\n",
    "#   In the implementation, we view $B$ as a vector.\n",
    "#   We try different implementation of $f$ and test the accuracy of jax.hessian"
   ],
   "metadata": {
    "collapsed": false
   }
  },
  {
   "cell_type": "markdown",
   "source": [],
   "metadata": {
    "collapsed": false
   }
  },
  {
   "cell_type": "code",
   "execution_count": 5,
   "outputs": [],
   "source": [
    "import jax.numpy as np\n",
    "import numpy as onp\n",
    "from jax import hessian, vmap, grad, jacrev\n",
    "import scipy\n",
    "from jax.config import config\n",
    "config.update(\"jax_enable_x64\", True)\n",
    "\n",
    "x = np.array([-2.        ,  4.89132319])\n",
    "B = np.zeros((2, 2))\n",
    "lbds = np.array([1.43588479e+06, 5.27642883e+03])\n",
    "\n",
    "def f0(params):\n",
    "    s = (x[0] ** 2 * params[0] + x[0] * x[1] * (params[1] + params[2]) + x[1] ** 2 * params[3]) ** 2\n",
    "    return np.dot(lbds ** (3 / 2), lbds ** (3 / 2)) * s\n",
    "def f1(params):\n",
    "    r =  (lbds ** (3/2)) * (x.dot(np.reshape(params, (2, 2)).dot(x)))\n",
    "    return np.dot(r, r)\n",
    "\n",
    "def f2(params):\n",
    "    B = np.reshape(params, (2, 2))\n",
    "    return np.dot(lbds ** (3 / 2), lbds ** (3 / 2)) * np.dot(x, np.dot(B, x)) ** 2\n",
    "\n",
    "def mtx_mul_vec(mtx, vec):\n",
    "    l = len(vec)\n",
    "    vec_ext = np.kron(np.eye(l), np.reshape(x, (-1, 1)))\n",
    "    return np.dot(mtx, vec_ext)\n",
    "\n",
    "def vec_mtx_vec(mtx, vec):\n",
    "    l = len(vec)\n",
    "    vec_ext = np.kron(np.eye(l), np.reshape(x, (-1, 1)))\n",
    "    return np.dot(np.dot(vec, vec_ext.T), mtx)\n",
    "\n",
    "def f3(params):\n",
    "    return np.dot(lbds ** (3/2), lbds ** (3/2)) * (np.dot(x, mtx_mul_vec(params, x))) ** 2\n",
    "\n",
    "def f4(params):\n",
    "    return np.dot(lbds ** (3/2), lbds ** (3/2)) * vec_mtx_vec(params, x) ** 2\n",
    "\n",
    "def Hessian():\n",
    "    rho = np.dot(lbds ** (3/2), lbds ** (3/2))\n",
    "    l = len(x)\n",
    "    vec = np.reshape(x, (-1, 1))\n",
    "    vec_ext = np.kron(np.eye(l), np.reshape(x, (-1, 1)))\n",
    "    return 2 * rho * vec_ext @ vec @ vec.T @ vec_ext.T"
   ],
   "metadata": {
    "collapsed": false
   }
  },
  {
   "cell_type": "code",
   "execution_count": 6,
   "outputs": [
    {
     "name": "stdout",
     "output_type": "stream",
     "text": [
      "Examine the accuracy of the functions\n",
      "0.0\n",
      "0.0\n",
      "-65536.0\n",
      "65536.0\n",
      "\n",
      "Examine the symmetry of the Hessian\n",
      "0.0\n",
      "532416.9808862223\n",
      "532416.9808862223\n",
      "532416.9808862223\n",
      "0.0\n",
      "\n",
      "Examine the accuracy of the Hessian\n",
      "747225.366592971\n",
      "645454.7448985095\n",
      "645454.7448985095\n",
      "645454.7448985095\n",
      "747225.366592971\n",
      "\n",
      "Check the eigenvalues of H\n",
      "[-5.24288000e+05  6.55360000e+04  1.57286400e+06  4.61717664e+21]\n",
      "[1.04857600e+05 4.19430400e+05 1.04857600e+06 4.61717664e+21]\n"
     ]
    }
   ],
   "source": [
    "Bvec = np.array(onp.random.randn(4))\n",
    "\n",
    "print(\"Examine the accuracy of the functions\")\n",
    "print(f0(Bvec) - f1(Bvec))\n",
    "print(f1(Bvec) - f2(Bvec))\n",
    "print(f3(Bvec) - f4(Bvec))\n",
    "print(f4(Bvec) - f0(Bvec))\n",
    "\n",
    "H  = Hessian()\n",
    "H0 = hessian(f0)(Bvec)\n",
    "H1 = hessian(f1)(Bvec)\n",
    "H2 = hessian(f2)(Bvec)\n",
    "H3 = hessian(f3)(Bvec)\n",
    "H4 = hessian(f4)(Bvec)\n",
    "\n",
    "print(\"\")\n",
    "print(\"Examine the symmetry of the Hessian\")\n",
    "print(np.linalg.norm(H0 - H0.T))\n",
    "print(np.linalg.norm(H1 - H1.T))\n",
    "print(np.linalg.norm(H2 - H2.T))\n",
    "print(np.linalg.norm(H3 - H3.T))\n",
    "print(np.linalg.norm(H4 - H4.T))\n",
    "\n",
    "print(\"\")\n",
    "print(\"Examine the accuracy of the Hessian\")\n",
    "print(np.linalg.norm(H0 - H))\n",
    "print(np.linalg.norm(H1 - H))\n",
    "print(np.linalg.norm(H2 - H))\n",
    "print(np.linalg.norm(H3 - H))\n",
    "print(np.linalg.norm(H4 - H))\n",
    "\n",
    "print(\"\")\n",
    "print(\"Check the eigenvalues of H\")\n",
    "e, v = scipy.linalg.eigh(H)\n",
    "print(e)\n",
    "e, v = scipy.linalg.eigh(H4)\n",
    "print(e)"
   ],
   "metadata": {
    "collapsed": false
   }
  },
  {
   "cell_type": "code",
   "execution_count": null,
   "outputs": [],
   "source": [],
   "metadata": {
    "collapsed": false
   }
  }
 ],
 "metadata": {
  "kernelspec": {
   "display_name": "Python 3",
   "language": "python",
   "name": "python3"
  },
  "language_info": {
   "codemirror_mode": {
    "name": "ipython",
    "version": 2
   },
   "file_extension": ".py",
   "mimetype": "text/x-python",
   "name": "python",
   "nbconvert_exporter": "python",
   "pygments_lexer": "ipython2",
   "version": "2.7.6"
  }
 },
 "nbformat": 4,
 "nbformat_minor": 0
}
